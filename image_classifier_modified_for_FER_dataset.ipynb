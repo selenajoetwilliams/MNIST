{
  "nbformat": 4,
  "nbformat_minor": 0,
  "metadata": {
    "colab": {
      "provenance": [],
      "mount_file_id": "1iGh25TvVKVb8Vg8t5yZWcRLvLHfQL4xk",
      "authorship_tag": "ABX9TyOP+LGCO7hG1kUD0RzGR8P1",
      "include_colab_link": true
    },
    "kernelspec": {
      "name": "python3",
      "display_name": "Python 3"
    },
    "language_info": {
      "name": "python"
    },
    "accelerator": "GPU",
    "gpuClass": "standard"
  },
  "cells": [
    {
      "cell_type": "markdown",
      "metadata": {
        "id": "view-in-github",
        "colab_type": "text"
      },
      "source": [
        "<a href=\"https://colab.research.google.com/github/selenajoetwilliams/Fashion-MNIST/blob/main/image_classifier_modified_for_FER_dataset.ipynb\" target=\"_parent\"><img src=\"https://colab.research.google.com/assets/colab-badge.svg\" alt=\"Open In Colab\"/></a>"
      ]
    },
    {
      "cell_type": "markdown",
      "source": [
        "I am following this image classification tutorial on pytorch documentation:\n",
        "https://pytorch.org/tutorials/beginner/blitz/cifar10_tutorial.html\n",
        "\n",
        "I plan to adapt it to the FER dataset which is conveniently stored in torchvision datasets"
      ],
      "metadata": {
        "id": "g0ZXPFGPycKg"
      }
    },
    {
      "cell_type": "code",
      "execution_count": 1,
      "metadata": {
        "id": "CjkCPOSDyWur",
        "colab": {
          "base_uri": "https://localhost:8080/"
        },
        "outputId": "ca764f1e-1b8e-4339-e1c1-4a7a06f52c5a"
      },
      "outputs": [
        {
          "output_type": "stream",
          "name": "stdout",
          "text": [
            "Drive already mounted at /content/drive; to attempt to forcibly remount, call drive.mount(\"/content/drive\", force_remount=True).\n"
          ]
        }
      ],
      "source": [
        "%matplotlib inline\n",
        "import torch\n",
        "import torchvision\n",
        "import torchvision.transforms as transforms\n",
        "from google.colab import drive\n",
        "drive.mount('/content/drive')"
      ]
    },
    {
      "cell_type": "markdown",
      "source": [
        "# 1. Load & process data\n",
        "\n",
        "# Notes from this section:\n",
        "\n",
        "*   differences between trainset & testset: \n",
        "    * train = True for trainset, False for testset\n",
        "*   other notes about train & set set\n",
        "    * num_workers is a command that specifies parralel processing computation allocations -- just set it to a positive integer (2-8 is standard)\n",
        "    * download=True because we want to download the datasets locally\n",
        "\n",
        "\n",
        "**NOTE** the difference in transform functions between this and the image_classifier model in pytorch. The image_classifier model in pytorch has a transform function that works for RGB images, but the one here works for grayscale images."
      ],
      "metadata": {
        "id": "7RJgn4S-15mT"
      }
    },
    {
      "cell_type": "code",
      "source": [
        "transform = transforms.Compose([transforms.ToTensor(),\n",
        "transforms.Normalize((0.5,), (0.5,))\n",
        "])\n",
        "\n",
        "# batch sizes of 32, 64, or 128 are commonly used in many deep learning applications\n",
        "batch_size = 4\n",
        "\n",
        "trainset = torchvision.datasets.FER2013(root='/content/drive/MyDrive/', split=\"train\", transform=transform) # 80% for training, 20% for testing\n",
        "# training and testing (80-20) OR training, validation, & testing (70-30-30)\n",
        "# use first 80% of rows\n",
        "# most sphisticated: np.random -- randomly select 80% of data \n",
        "\n",
        "\n",
        "# trainset = torchvision.datasets.CIFAR10(root='./data', train=True,\n",
        "#                                         download=True, transform=transform)\n",
        "\n",
        "trainloader = torch.utils.data.DataLoader(trainset, batch_size=batch_size,\n",
        "                                          shuffle=True, num_workers=2)\n",
        "\n",
        "testset = torchvision.datasets.FER2013(root='/content/drive/MyDrive', split=\"test\", transform=transform)\n",
        "\n",
        "# testset = torchvision.datasets.CIFAR10(root='./data', train=False,\n",
        "#                                        download=True, transform=transform)\n",
        "\n",
        "testloader = torch.utils.data.DataLoader(testset, batch_size=batch_size,\n",
        "                                         shuffle=False, num_workers=2)\n",
        "\n",
        "classes = ('Angry', 'Disgust', 'Fear', 'Happy', 'Sad', 'Surprise', 'Neutral')\n",
        "\n",
        "\n",
        "# classes = ('plane', 'car', 'bird', 'cat',\n",
        "#            'deer', 'dog', 'frog', 'horse', 'ship', 'truck')\n",
        "\n",
        "# for FER it will be: 0=Angry, 1=Disgust, 2=Fear, 3=Happy, 4=Sad, 5=Surprise, 6=Neutral"
      ],
      "metadata": {
        "id": "RI_nKwhkygIi"
      },
      "execution_count": 2,
      "outputs": []
    },
    {
      "cell_type": "markdown",
      "source": [
        "# Visualizing Data\n",
        "questoins: is dataiter & next(dataiter) only possible with iterable datasets? Pytorch documentaiton notes 2 kinds of datasets: iterable & map"
      ],
      "metadata": {
        "id": "T7_hxClK3m4r"
      }
    },
    {
      "cell_type": "code",
      "source": [
        "import matplotlib.pyplot as plt\n",
        "import numpy as np\n",
        "\n",
        "# functions to show an image\n",
        "\n",
        "def imshow(img):\n",
        "    img = img / 2 + 0.5     # unnormalize\n",
        "    npimg = img.numpy()\n",
        "    plt.imshow(np.transpose(npimg, (1, 2, 0)))\n",
        "    plt.show()\n",
        "\n",
        "\n",
        "# get some random training images\n",
        "dataiter = iter(trainloader)\n",
        "\n",
        "images, labels = next(dataiter)\n",
        "\n",
        "# show images\n",
        "imshow(torchvision.utils.make_grid(images))\n",
        "# print labels\n",
        "print(' '.join(f'{classes[labels[j]]:5s}' for j in range(batch_size)))"
      ],
      "metadata": {
        "colab": {
          "base_uri": "https://localhost:8080/",
          "height": 209
        },
        "id": "B_YMXtcG3mhL",
        "outputId": "92ff1fb1-2d33-4c23-eb4a-d41a0f2d801c"
      },
      "execution_count": 3,
      "outputs": [
        {
          "output_type": "display_data",
          "data": {
            "text/plain": [
              "<Figure size 640x480 with 1 Axes>"
            ],
            "image/png": "[encoded data removed]"
          },
          "metadata": {}
        },
        {
          "output_type": "stream",
          "name": "stdout",
          "text": [
            "Surprise Fear  Happy Happy\n"
          ]
        }
      ]
    },
    {
      "cell_type": "markdown",
      "source": [
        "# 2. Defining a Convolutional Neural Network\n",
        "* note that this takes in 3-channel (RGB) images. If you want to see an example of 1-channel images, check the neural networks section from before this module in the pytorch 60 minute blitz\n",
        "\n",
        "Q: do all NN classes take in nn.Module? why?"
      ],
      "metadata": {
        "id": "_y9yueRA71zI"
      }
    },
    {
      "cell_type": "code",
      "source": [
        "import torch.nn as nn\n",
        "import torch.nn.functional as F\n",
        "\n",
        "\n",
        "class Net(nn.Module):\n",
        "    # def __init__(self):\n",
        "    #     super().__init__()\n",
        "    #     self.conv1 = nn.Conv2d(3, 6, 5)\n",
        "    #     self.pool = nn.MaxPool2d(2, 2)\n",
        "    #     self.conv2 = nn.Conv2d(6, 16, 5)\n",
        "    #     self.fc1 = nn.Linear(16 * 5 * 5, 120)\n",
        "    #     self.fc2 = nn.Linear(120, 84)\n",
        "    #     self.fc3 = nn.Linear(84, 10)\n",
        "\n",
        "    def __init__(self):\n",
        "        super().__init__()\n",
        "        self.conv1 = nn.Conv2d(1, 16, kernel_size=3, padding=1)\n",
        "        self.pool = nn.MaxPool2d(2, 2)\n",
        "        self.conv2 = nn.Conv2d(16, 32, kernel_size=3, padding=1)\n",
        "        self.fc1 = nn.Linear(32 * 12 * 12, 128)\n",
        "        self.fc2 = nn.Linear(128, 32)\n",
        "        self.fc3 = nn.Linear(32, 7)\n",
        "\n",
        "    def forward(self, x):\n",
        "        x = self.pool(F.relu(self.conv1(x)))\n",
        "        x = self.pool(F.relu(self.conv2(x)))\n",
        "        x = torch.flatten(x, 1) # flatten all dimensions except batch\n",
        "        x = F.relu(self.fc1(x))\n",
        "        x = F.relu(self.fc2(x))\n",
        "        x = self.fc3(x)\n",
        "        return x\n",
        "        print(\"in this forward pass, x is \") # TODO: REMOVE THIS\n",
        "        print(x)\n",
        "\n",
        "\n",
        "net = Net() # this creates an instance of the Net class, which has the constructor & forward function defined above\n"
      ],
      "metadata": {
        "id": "SLcSG9-q8Gmd"
      },
      "execution_count": 4,
      "outputs": []
    },
    {
      "cell_type": "markdown",
      "source": [
        "# 3. Define the Loss Function & optimizer\n",
        "Here we use Classification Cross-Entropy loss & SGD (stochastic gradient?) with momentum"
      ],
      "metadata": {
        "id": "bEtztwVURIvT"
      }
    },
    {
      "cell_type": "code",
      "source": [
        "import torch.optim as optim\n",
        "\n",
        "criterion = nn.CrossEntropyLoss()\n",
        "optimizer = optim.SGD(net.parameters(), lr=0.001, momentum=0.9)"
      ],
      "metadata": {
        "id": "OfLiWocTRck3"
      },
      "execution_count": 5,
      "outputs": []
    },
    {
      "cell_type": "markdown",
      "source": [
        "# 4. Train the network\n",
        "This is interesting: to do this: simply loop over the data iterator and feed the data into the network & optimize\n",
        "**note that we only have 2 epochs -- this is a sign of a really simple model. when you have time, go through and increase the epochs**"
      ],
      "metadata": {
        "id": "_5IuX-THSUNH"
      }
    },
    {
      "cell_type": "code",
      "source": [
        "for epoch in range(2):  # loop over the dataset multiple times\n",
        "    print('epoch ' + str(epoch))\n",
        "    running_loss = 0.0\n",
        "    for i, data in enumerate(trainloader, 0):\n",
        "        # get the inputs; data is a list of [inputs, labels]\n",
        "        inputs, labels = data\n",
        "\n",
        "        # zero the parameter gradients\n",
        "        optimizer.zero_grad()\n",
        "\n",
        "        '''\n",
        "        the 4 lines below represent one iteration through the training data\n",
        "\n",
        "        about the bottom 2 lines: \n",
        "        Together, these two lines of code represent one iteration of the training process. \n",
        "        The loss is computed for the current batch of data, the gradients are calculated, \n",
        "        and the optimizer updates the model parameters accordingly. This process is repeated \n",
        "        for multiple iterations (or \"epochs\") until the model's performance on a validation \n",
        "        set reaches a satisfactory level.\n",
        "        '''\n",
        "\n",
        "        # forward + backward + optimize\n",
        "        outputs = net(inputs)\n",
        "        loss = criterion(outputs, labels) # criterion is just a fancy word for the loss function!\n",
        "        loss.backward() \n",
        "        optimizer.step()\n",
        "\n",
        "        # print statistics\n",
        "        running_loss += loss.item()\n",
        "        if i % 2000 == 1999:    # print every 2000 mini-batches\n",
        "            print(f'[{epoch + 1}, {i + 1:5d}] loss: {running_loss / 2000:.3f}')\n",
        "            running_loss = 0.0\n",
        "\n",
        "print('Finished Training')"
      ],
      "metadata": {
        "colab": {
          "base_uri": "https://localhost:8080/"
        },
        "id": "qk3RSwO2OifV",
        "outputId": "d4b58254-130d-480f-94fe-bdc8d4003e96"
      },
      "execution_count": 6,
      "outputs": [
        {
          "output_type": "stream",
          "name": "stdout",
          "text": [
            "epoch 0\n",
            "[1,  2000] loss: 1.803\n",
            "[1,  4000] loss: 1.701\n",
            "[1,  6000] loss: 1.635\n",
            "epoch 1\n",
            "[2,  2000] loss: 1.550\n",
            "[2,  4000] loss: 1.509\n",
            "[2,  6000] loss: 1.457\n",
            "Finished Training\n"
          ]
        }
      ]
    },
    {
      "cell_type": "markdown",
      "source": [
        "# Saving the model\n",
        "Let's quickly save our trained model:"
      ],
      "metadata": {
        "id": "JZC8EIJB8wdg"
      }
    },
    {
      "cell_type": "code",
      "source": [
        "PATH = './fer2013_net.pth' # Note that this name should change when we adapt this to fer dataset\n",
        "torch.save(net.state_dict(), PATH)"
      ],
      "metadata": {
        "id": "NngKj8VH82Jj"
      },
      "execution_count": 7,
      "outputs": []
    },
    {
      "cell_type": "markdown",
      "source": [
        "## 5. Visualizing the test data\n",
        "\n",
        "We have trained the network for 2 passes over the training dataset. But we need to check if the network has learnt anything at all.\n",
        "We will check this by predicting the class label that the neural network outputs, and checking it against the ground-truth. If the prediction is correct, we add the sample to the list of correct predictions.\n",
        "Okay, first step. Let us display an image from the test set to get familiar."
      ],
      "metadata": {
        "id": "pOzOLkJs9XPI"
      }
    },
    {
      "cell_type": "code",
      "source": [
        "import pandas as pd\n",
        "import numpy as np\n",
        "import torch\n",
        "\n",
        "test_df = pd.read_csv('/content/drive/MyDrive/fer2013/test.csv')\n",
        "\n",
        "print(\"top 5 rows are printed at bottom\")\n",
        "rows, cols = test_df.shape\n",
        "print(\"rows: \" + str(rows) + \" cols: \" + str(cols))\n",
        "\n",
        "\n",
        "\n",
        "# test_df.head().loc[:\"pixels\"]\n",
        "\n",
        "test_df\n",
        "test_df.columns\n",
        "\n",
        "print(test_df.pixels)\n",
        "\n",
        "np_arr = test_df.pixels.to_numpy # convert to numpy array\n",
        "# torch.dtype(np_arr) # error: cannot create 'torch.dtype' instances\n",
        "# print(np_arr.shape()) # error: 'function' object has no attrbute 'shape'\n",
        "\n",
        "# np_2d = np_arr.reshape(48, 48) # reshape \n",
        "# print(np_2d.shape())\n",
        "\n",
        "\n",
        "\n",
        "# for i in range(10):\n",
        "#   print(test_df[1][i])"
      ],
      "metadata": {
        "colab": {
          "base_uri": "https://localhost:8080/"
        },
        "id": "DI0A9psaNDXl",
        "outputId": "2dd9621c-31c3-4547-9917-95a5f32b2335"
      },
      "execution_count": 26,
      "outputs": [
        {
          "output_type": "stream",
          "name": "stdout",
          "text": [
            "top 5 rows are printed at bottom\n",
            "rows: 7178 cols: 1\n",
            "0       254 254 254 254 254 249 255 160 2 58 53 70 77 ...\n",
            "1       156 184 198 202 204 207 210 212 213 214 215 21...\n",
            "2       69 118 61 60 96 121 103 87 103 88 70 90 115 12...\n",
            "3       205 203 236 157 83 158 120 116 94 86 155 180 2...\n",
            "4       87 79 74 66 74 96 77 80 80 84 83 89 102 91 84 ...\n",
            "                              ...                        \n",
            "7173    50 36 17 22 23 29 33 39 34 37 37 37 39 43 48 5...\n",
            "7174    178 174 172 173 181 188 191 194 196 199 200 20...\n",
            "7175    17 17 16 23 28 22 19 17 25 26 20 24 31 19 27 9...\n",
            "7176    30 28 28 29 31 30 42 68 79 81 77 67 67 71 63 6...\n",
            "7177    19 13 14 12 13 16 21 33 50 57 71 84 97 108 122...\n",
            "Name: pixels, Length: 7178, dtype: object\n"
          ]
        }
      ]
    },
    {
      "cell_type": "code",
      "source": [
        "import pandas as pd\n",
        "\n",
        "'''\n",
        "high level attempt:\n",
        "convert csv to pandas dataframe \n",
        "use numpy reshape to reshape from 1D array of pixels to 2D 48 x 48 pictures\n",
        "extract first 4 images from df, print them with imshow function\n",
        "'''\n",
        "\n",
        "# train_df = pd.resd_csv('/content/drive/MyDrive/fer2013/train.csv')\n",
        "# train_df.head()\n",
        "\n",
        "test_df = pd.read_csv('/content/drive/MyDrive/fer2013/test.csv') # \n",
        "print(type(test_df))\n",
        "# test_df = test_df.apply(pd.to_numeric)\n",
        "\n",
        "test_df.head(10)\n",
        "\n",
        "pixels = test_df.values\n",
        "\n",
        "# read test file\n",
        "# have some accuracy #s on test dataset & compare them w/ ground truth \n",
        "# switch datasets\n",
        "\n",
        "im_list = [] \n",
        "#instead of pixels[i], im_list.append(____)\n",
        "# once you split, make sure it's not a string, if so, you'll need \n",
        "# need to pass in a list of nums into im_show\n",
        "\n",
        "# previously I wasn't iterating over pixels --> would have to use map function to make old way work, use enumerate instead\n",
        "for i, val in enumerate(pixels): # enumerate makes a dict which has idx, value\n",
        "    print(val[0])\n",
        "    print(type(val[0]))\n",
        "\n",
        "    image = []\n",
        "    for pixel in val[0].split(' '):\n",
        "      image.append(pixel)\n",
        "    print(\"image is \")\n",
        "    print(image)\n",
        "    im_list.append(image)\n",
        "    print(\"im_list is \")\n",
        "    print(im_list)\n",
        "    # make new df and append the new image\n",
        "    # the string can be converted into list, but that list might still be s tring\n",
        "    # iterate over list & convert every string into a float\n",
        "    # create a new empty list & append the new list of images to that list\n",
        "\n",
        "    # print(val[0])\n",
        "    # print(val.shape)\n",
        "    # pixels[i] = val.strip('\"')\n",
        "    # print(pixels[i])\n",
        "\n",
        "# idx, pixels = test_df\n",
        "for i in range(3):\n",
        "  # pixels[i].strip()\n",
        "  print(pixels[i])\n",
        "\n",
        "# pic_list = test_df.split(\"'\") # split on quotes \n",
        "# pic_list = test_df.values.tolist() # converts dataframe to list\n",
        "# for i in range(3):\n",
        "#   pic_list[i].strip(\"'\")\n",
        "#   print(i)\n",
        "\n",
        "# for i in range(5):\n",
        "#   print(pic_list[i])\n",
        "\n",
        "# for i in pic_list: # for each image\n",
        "#   i.read_csv(delimiter=' ')\n",
        "\n",
        "def imshow(img):\n",
        "    # print(\"image is \")\n",
        "    # print(img)\n",
        "    # print(type(img))\n",
        "    # Convert pixel values to numpy array and reshape\n",
        "    npimg = np.array(img, dtype=float).reshape(48, 48) / 255.\n",
        "    # npimg = np.array(img).reshape((48, 48))\n",
        "\n",
        "    # Display image\n",
        "    plt.imshow(npimg, cmap='gray')\n",
        "    plt.show()\n",
        "\n",
        "# for i in range(4):\n",
        "#   pixels = test_df.iloc[i][pixels].values\n",
        "\n",
        "for image in pixels:\n",
        "    print(\"image type is \")\n",
        "    print(type(image))\n",
        "    print(f\"image {i}\")\n",
        "    imshow(image)"
      ],
      "metadata": {
        "colab": {
          "base_uri": "https://localhost:8080/"
        },
        "id": "_D6xtprS9fod",
        "outputId": "682d0363-e94a-4341-ba2d-5446794e9ea2"
      },
      "execution_count": null,
      "outputs": [
        {
          "metadata": {
            "tags": null
          },
          "name": "stderr",
          "output_type": "stream",
          "text": [
            "IOPub data rate exceeded.\n",
            "The notebook server will temporarily stop sending output\n",
            "to the client in order to avoid crashing it.\n",
            "To change this limit, set the config variable\n",
            "`--NotebookApp.iopub_data_rate_limit`.\n",
            "\n",
            "Current values:\n",
            "NotebookApp.iopub_data_rate_limit=1000000.0 (bytes/sec)\n",
            "NotebookApp.rate_limit_window=3.0 (secs)\n",
            "\n"
          ]
        },
        {
          "metadata": {
            "tags": null
          },
          "name": "stdout",
          "output_type": "stream",
          "text": [
            "\n",
            "133 132 132 131 130 128 127 122 100 51 35 28 22 22 24 30 29 33 42 53 63 70 80 75 74 73 70 70 72 70 68 63 56 41 29 33 39 71 142 189 202 192 189 191 196 201 209 215 133 132 132 131 129 128 124 116 63 33 27 26 25 24 30 33 43 49 60 66 69 77 82 82 81 77 73 72 71 71 69 64 62 57 40 28 29 46 73 102 175 205 200 196 192 189 193 198 131 132 131 131 128 125 122 91 39 29 28 29 24 24 28 38 52 63 70 76 80 86 88 87 84 84 82 77 74 72 70 66 63 63 57 40 30 33 45 36 50 107 152 160 176 195 202 202 131 131 130 130 127 123 93 45 35 33 27 22 21 23 30 44 62 70 78 83 87 90 91 89 90 86 84 83 81 73 71 71 67 63 63 54 41 28 37 47 41 43 77 104 111 124 139 160 130 130 131 128 125 92 38 31 27 21 18 19 23 31 44 66 71 80 85 89 89 89 90 92 91 89 87 88 86 82 76 75 72 64 63 59 50 37 34 45 50 58 56 80 109 109 106 106 132 130 129 128 111 46 27 26 25 26 27 31 43 53 68 79 81 85 89 89 90 93 96 98 94 96 95 95 93 87 83 79 73 69 67 65 58 41 32 43 45 53 55 49 83 112 115 114 130 131 130 128 102 39 31 27 25 37 51 64 73 82 83 86 86 86 90 93 92 97 100 99 96 96 96 95 95 87 84 81 77 72 71 66 60 49 37 42 48 44 45 36 58 95 100 103 130 129 128 126 79 26 32 32 41 61 79 84 87 85 84 88 89 89 90 95 95 94 98 98 95 96 94 92 87 83 84 81 79 74 76 73 62 56 46 42 59 57 49 37 46 121 152 132 127 128 127 118 55 28 50 47 48 78 87 83 78 83 87 86 88 87 86 91 94 95 99 101 98 95 93 90 87 82 83 83 79 79 78 78 71 60 56 48 67 69 51 40 39 137 217 206 129 128 126 112 47 38 71 47 67 90 92 87 80 79 84 82 83 87 86 87 89 94 97 97 97 92 90 86 83 81 81 83 81 78 77 76 74 67 58 55 68 59 44 40 36 135 209 202 131 129 126 102 44 48 86 48 81 94 94 88 84 85 84 83 84 86 83 87 88 91 95 96 96 96 91 90 89 92 92 85 83 80 79 80 75 70 63 59 75 57 38 41 60 176 216 210 129 128 125 91 45 64 72 51 86 96 93 88 88 83 84 87 90 88 91 93 92 96 98 99 99 99 99 99 99 92 92 92 87 85 84 80 77 70 66 56 57 51 40 44 127 218 223 221 128 127 124 85 54 71 83 60 89 93 95 92 88 86 90 92 92 96 99 104 102 101 102 101 106 107 108 115 116 112 97 94 94 88 82 81 76 69 65 57 52 49 46 50 122 217 227 227 128 126 123 91 58 77 81 69 82 90 97 92 91 94 91 92 96 100 108 123 119 112 112 108 114 117 124 126 126 114 103 100 97 84 73 78 79 67 66 58 46 48 53 46 110 193 206 206 128 127 126 96 69 79 77 77 82 89 94 96 96 94 96 97 98 102 100 111 121 128 127 117 116 121 118 105 98 77 65 66 64 70 78 79 79 69 67 59 47 46 60 45 87 184 206 203 128 126 125 87 67 78 79 70 84 88 88 93 80 78 84 75 63 66 77 82 93 106 119 109 119 113 103 85 79 69 68 79 91 96 89 85 82 70 64 59 56 50 53 44 88 208 229 220 127 127 125 81 72 70 62 71 88 85 84 81 73 76 78 70 67 62 76 81 77 93 101 101 121 103 92 85 88 98 103 111 119 116 107 93 87 78 65 60 57 55 58 54 79 154 179 187 125 125 124 81 76 70 56 73 89 86 87 84 79 89 98 107 116 119 113 106 94 82 91 106 126 108 91 95 101 86 67 57 45 61 81 98 93 84 71 60 58 68 63 53 63 90 91 88 126 125 123 90 75 74 65 73 88 87 81 84 92 97 97 96 79 70 80 86 97 89 85 99 115 108 86 81 97 92 74 24 32 59 74 62 95 92 84 66 58 65 66 54 71 112 102 101 126 125 125 96 74 73 68 79 85 87 77 84 96 88 67 18 30 39 100 88 100 90 76 93 102 99 76 75 99 86 101 41 40 75 91 70 85 97 92 73 59 56 71 61 75 123 102 101 127 126 126 99 72 76 84 94 87 92 82 88 91 64 65 51 32 55 121 88 88 94 77 89 96 93 78 76 82 83 87 108 114 104 96 91 80 88 96 84 63 55 73 65 76 130 90 79 128 126 121 102 102 90 83 91 87 93 87 90 91 86 89 92 84 106 100 92 91 85 95 91 93 88 75 79 90 89 99 115 126 117 103 94 96 91 95 88 66 53 72 68 89 132 73 54 126 125 110 109 112 91 84 85 83 90 94 103 100 102 107 113 117 122 114 106 93 99 101 89 88 84 76 75 91 97 98 96 96 93 87 87 91 95 92 89 68 59 71 75 88 119 65 63 125 125 104 114 110 90 78 81 82 91 101 100 97 103 106 106 101 102 99 97 102 104 95 89 89 85 77 70 80 92 95 91 93 96 93 89 93 92 93 82 65 54 67 86 93 106 63 69 125 122 102 110 113 100 82 79 80 93 100 98 101 107 98 97 99 97 97 98 99 99 95 90 87 85 82 73 78 100 105 93 94 98 100 96 99 93 88 80 62 49 76 109 98 85 64 68 124 124 103 104 112 112 105 79 79 89 95 99 106 102 97 101 101 101 99 106 113 103 99 89 88 91 86 73 76 83 109 117 111 103 103 105 101 93 85 84 67 55 92 111 100 76 67 68 125 126 106 94 111 109 119 97 74 84 95 102 107 105 104 104 104 108 118 119 97 90 94 91 98 105 93 69 76 73 80 96 113 125 116 109 104 91 82 88 67 63 95 99 101 78 69 72 124 127 98 73 111 113 118 139 97 78 96 103 107 104 108 109 115 123 112 104 99 100 97 95 110 134 103 82 84 85 75 101 94 109 122 113 102 90 84 87 69 63 90 88 92 85 70 72 122 126 94 65 91 116 114 126 110 77 94 104 105 107 110 112 121 121 102 110 103 109 100 87 105 119 99 77 84 81 76 105 107 92 110 110 103 93 86 86 73 70 96 99 96 85 70 71 123 124 88 72 71 99 99 104 104 83 89 103 100 102 107 110 120 109 104 109 86 73 73 69 83 92 80 74 72 77 88 97 108 99 92 107 103 94 85 85 72 70 92 107 105 85 74 74 124 124 91 76 69 82 102 107 98 80 89 101 97 101 102 106 114 100 103 103 90 81 80 83 79 76 89 94 93 93 91 88 97 103 89 94 102 92 85 87 71 91 92 104 111 79 73 73 124 125 104 77 73 73 92 105 107 85 85 100 95 98 100 107 113 103 101 92 83 87 88 87 99 105 109 98 90 90 88 83 84 93 94 87 98 94 83 88 75 75 107 105 98 72 74 75 124 123 118 85 75 69 88 101 118 98 78 98 95 95 98 107 101 99 94 79 86 92 93 96 117 115 117 115 99 97 96 90 88 90 92 86 90 94 89 89 86 68 86 86 72 74 75 76 123 122 123 103 77 73 79 103 110 102 82 93 99 98 99 102 95 98 92 88 99 97 89 85 93 104 100 79 70 66 66 67 69 84 90 88 99 98 86 91 85 75 68 67 73 73 74 74 124 123 121 119 88 76 67 91 109 120 90 88 98 98 100 99 86 100 96 86 60 61 69 77 68 64 73 75 100 96 71 46 48 58 92 93 111 102 87 93 84 69 70 69 71 71 72 74 123 121 121 122 105 74 74 67 83 97 69 85 97 98 98 105 88 89 76 52 69 90 135 145 145 138 141 171 156 149 104 116 79 68 93 101 124 95 89 94 79 65 65 64 67 67 67 68 123 120 121 121 118 86 74 76 72 69 65 80 94 100 98 111 102 81 86 63 76 98 111 105 145 177 151 166 98 100 81 74 70 85 93 113 123 91 89 92 65 40 42 42 44 47 46 47 124 123 121 120 123 98 73 75 74 75 68 74 92 104 94 108 118 92 92 91 65 62 58 49 65 79 82 74 56 60 63 63 78 88 96 119 106 78 91 87 48 24 26 25 25 27 25 26 124 123 121 119 120 112 79 74 74 73 69 67 86 99 97 99 116 104 95 100 96 84 81 83 78 75 81 84 84 84 82 79 87 94 96 118 98 82 94 75 35 30 31 31 33 34 34 34 124 122 120 120 120 119 97 76 73 72 71 63 77 95 97 95 107 109 99 104 103 98 96 94 98 113 111 107 102 95 94 90 89 93 98 110 84 92 89 58 33 34 34 32 37 38 38 39 123 122 121 121 119 119 115 97 85 88 76 66 66 89 95 95 95 108 104 101 105 101 99 100 105 117 110 109 107 98 95 91 95 94 100 98 83 95 77 45 39 37 38 37 38 42 43 44 123 123 121 120 116 119 119 115 107 109 82 70 64 73 87 91 96 103 106 100 104 103 100 103 102 103 108 102 102 103 99 96 100 97 98 84 89 89 62 45 45 42 44 43 43 47 48 48 124 124 121 120 119 118 117 116 115 116 90 69 70 63 79 94 96 101 105 100 102 101 104 105 106 102 112 107 100 105 104 98 100 93 90 82 89 77 51 50 47 47 47 45 46 47 49 49 122 122 122 120 118 118 115 115 115 116 99 70 68 65 63 87 97 100 104 104 104 104 104 103 99 95 109 108 93 94 96 99 101 90 85 82 87 55 50 51 48 49 49 48 48 46 48 50 121 122 122 122 119 119 117 115 114 113 109 80 68 70 63 67 95 100 100 101 106 106 99 94 92 107 115 110 103 91 90 99 95 87 80 83 68 42 52 51 50 50 49 50 48 45 48 49 124 122 120 121 120 120 117 115 114 114 114 93 68 68 68 60 71 95 97 98 99 103 100 96 102 110 109 111 114 105 99 99 94 83 77 64 51 53 50 50 49 49 49 48 48 47 47 49 122 122 123 121 118 119 118 116 114 115 114 106 80 66 67 65 58 75 90 91 94 100 102 104 107 109 107 109 107 110 105 100 93 76 58 51 68 54 47 48 47 48 48 47 46 47 46 49 124 125 122 121 119 118 118 118 116 115 113 113 98 72 66 68 74 72 77 85 89 96 99 103 104 99 100 101 101 104 103 98 83 62 51 70 73 52 45 48 49 49 46 45 49 48 47 48\n",
            "<class 'str'>\n",
            "image is \n",
            "['133', '132', '132', '131', '130', '128', '127', '122', '100', '51', '35', '28', '22', '22', '24', '30', '29', '33', '42', '53', '63', '70', '80', '75', '74', '73', '70', '70', '72', '70', '68', '63', '56', '41', '29', '33', '39', '71', '142', '189', '202', '192', '189', '191', '196', '201', '209', '215', '133', '132', '132', '131', '129', '128', '124', '116', '63', '33', '27', '26', '25', '24', '30', '33', '43', '49', '60', '66', '69', '77', '82', '82', '81', '77', '73', '72', '71', '71', '69', '64', '62', '57', '40', '28', '29', '46', '73', '102', '175', '205', '200', '196', '192', '189', '193', '198', '131', '132', '131', '131', '128', '125', '122', '91', '39', '29', '28', '29', '24', '24', '28', '38', '52', '63', '70', '76', '80', '86', '88', '87', '84', '84', '82', '77', '74', '72', '70', '66', '63', '63', '57', '40', '30', '33', '45', '36', '50', '107', '152', '160', '176', '195', '202', '202', '131', '131', '130', '130', '127', '123', '93', '45', '35', '33', '27', '22', '21', '23', '30', '44', '62', '70', '78', '83', '87', '90', '91', '89', '90', '86', '84', '83', '81', '73', '71', '71', '67', '63', '63', '54', '41', '28', '37', '47', '41', '43', '77', '104', '111', '124', '139', '160', '130', '130', '131', '128', '125', '92', '38', '31', '27', '21', '18', '19', '23', '31', '44', '66', '71', '80', '85', '89', '89', '89', '90', '92', '91', '89', '87', '88', '86', '82', '76', '75', '72', '64', '63', '59', '50', '37', '34', '45', '50', '58', '56', '80', '109', '109', '106', '106', '132', '130', '129', '128', '111', '46', '27', '26', '25', '26', '27', '31', '43', '53', '68', '79', '81', '85', '89', '89', '90', '93', '96', '98', '94', '96', '95', '95', '93', '87', '83', '79', '73', '69', '67', '65', '58', '41', '32', '43', '45', '53', '55', '49', '83', '112', '115', '114', '130', '131', '130', '128', '102', '39', '31', '27', '25', '37', '51', '64', '73', '82', '83', '86', '86', '86', '90', '93', '92', '97', '100', '99', '96', '96', '96', '95', '95', '87', '84', '81', '77', '72', '71', '66', '60', '49', '37', '42', '48', '44', '45', '36', '58', '95', '100', '103', '130', '129', '128', '126', '79', '26', '32', '32', '41', '61', '79', '84', '87', '85', '84', '88', '89', '89', '90', '95', '95', '94', '98', '98', '95', '96', '94', '92', '87', '83', '84', '81', '79', '74', '76', '73', '62', '56', '46', '42', '59', '57', '49', '37', '46', '121', '152', '132', '127', '128', '127', '118', '55', '28', '50', '47', '48', '78', '87', '83', '78', '83', '87', '86', '88', '87', '86', '91', '94', '95', '99', '101', '98', '95', '93', '90', '87', '82', '83', '83', '79', '79', '78', '78', '71', '60', '56', '48', '67', '69', '51', '40', '39', '137', '217', '206', '129', '128', '126', '112', '47', '38', '71', '47', '67', '90', '92', '87', '80', '79', '84', '82', '83', '87', '86', '87', '89', '94', '97', '97', '97', '92', '90', '86', '83', '81', '81', '83', '81', '78', '77', '76', '74', '67', '58', '55', '68', '59', '44', '40', '36', '135', '209', '202', '131', '129', '126', '102', '44', '48', '86', '48', '81', '94', '94', '88', '84', '85', '84', '83', '84', '86', '83', '87', '88', '91', '95', '96', '96', '96', '91', '90', '89', '92', '92', '85', '83', '80', '79', '80', '75', '70', '63', '59', '75', '57', '38', '41', '60', '176', '216', '210', '129', '128', '125', '91', '45', '64', '72', '51', '86', '96', '93', '88', '88', '83', '84', '87', '90', '88', '91', '93', '92', '96', '98', '99', '99', '99', '99', '99', '99', '92', '92', '92', '87', '85', '84', '80', '77', '70', '66', '56', '57', '51', '40', '44', '127', '218', '223', '221', '128', '127', '124', '85', '54', '71', '83', '60', '89', '93', '95', '92', '88', '86', '90', '92', '92', '96', '99', '104', '102', '101', '102', '101', '106', '107', '108', '115', '116', '112', '97', '94', '94', '88', '82', '81', '76', '69', '65', '57', '52', '49', '46', '50', '122', '217', '227', '227', '128', '126', '123', '91', '58', '77', '81', '69', '82', '90', '97', '92', '91', '94', '91', '92', '96', '100', '108', '123', '119', '112', '112', '108', '114', '117', '124', '126', '126', '114', '103', '100', '97', '84', '73', '78', '79', '67', '66', '58', '46', '48', '53', '46', '110', '193', '206', '206', '128', '127', '126', '96', '69', '79', '77', '77', '82', '89', '94', '96', '96', '94', '96', '97', '98', '102', '100', '111', '121', '128', '127', '117', '116', '121', '118', '105', '98', '77', '65', '66', '64', '70', '78', '79', '79', '69', '67', '59', '47', '46', '60', '45', '87', '184', '206', '203', '128', '126', '125', '87', '67', '78', '79', '70', '84', '88', '88', '93', '80', '78', '84', '75', '63', '66', '77', '82', '93', '106', '119', '109', '119', '113', '103', '85', '79', '69', '68', '79', '91', '96', '89', '85', '82', '70', '64', '59', '56', '50', '53', '44', '88', '208', '229', '220', '127', '127', '125', '81', '72', '70', '62', '71', '88', '85', '84', '81', '73', '76', '78', '70', '67', '62', '76', '81', '77', '93', '101', '101', '121', '103', '92', '85', '88', '98', '103', '111', '119', '116', '107', '93', '87', '78', '65', '60', '57', '55', '58', '54', '79', '154', '179', '187', '125', '125', '124', '81', '76', '70', '56', '73', '89', '86', '87', '84', '79', '89', '98', '107', '116', '119', '113', '106', '94', '82', '91', '106', '126', '108', '91', '95', '101', '86', '67', '57', '45', '61', '81', '98', '93', '84', '71', '60', '58', '68', '63', '53', '63', '90', '91', '88', '126', '125', '123', '90', '75', '74', '65', '73', '88', '87', '81', '84', '92', '97', '97', '96', '79', '70', '80', '86', '97', '89', '85', '99', '115', '108', '86', '81', '97', '92', '74', '24', '32', '59', '74', '62', '95', '92', '84', '66', '58', '65', '66', '54', '71', '112', '102', '101', '126', '125', '125', '96', '74', '73', '68', '79', '85', '87', '77', '84', '96', '88', '67', '18', '30', '39', '100', '88', '100', '90', '76', '93', '102', '99', '76', '75', '99', '86', '101', '41', '40', '75', '91', '70', '85', '97', '92', '73', '59', '56', '71', '61', '75', '123', '102', '101', '127', '126', '126', '99', '72', '76', '84', '94', '87', '92', '82', '88', '91', '64', '65', '51', '32', '55', '121', '88', '88', '94', '77', '89', '96', '93', '78', '76', '82', '83', '87', '108', '114', '104', '96', '91', '80', '88', '96', '84', '63', '55', '73', '65', '76', '130', '90', '79', '128', '126', '121', '102', '102', '90', '83', '91', '87', '93', '87', '90', '91', '86', '89', '92', '84', '106', '100', '92', '91', '85', '95', '91', '93', '88', '75', '79', '90', '89', '99', '115', '126', '117', '103', '94', '96', '91', '95', '88', '66', '53', '72', '68', '89', '132', '73', '54', '126', '125', '110', '109', '112', '91', '84', '85', '83', '90', '94', '103', '100', '102', '107', '113', '117', '122', '114', '106', '93', '99', '101', '89', '88', '84', '76', '75', '91', '97', '98', '96', '96', '93', '87', '87', '91', '95', '92', '89', '68', '59', '71', '75', '88', '119', '65', '63', '125', '125', '104', '114', '110', '90', '78', '81', '82', '91', '101', '100', '97', '103', '106', '106', '101', '102', '99', '97', '102', '104', '95', '89', '89', '85', '77', '70', '80', '92', '95', '91', '93', '96', '93', '89', '93', '92', '93', '82', '65', '54', '67', '86', '93', '106', '63', '69', '125', '122', '102', '110', '113', '100', '82', '79', '80', '93', '100', '98', '101', '107', '98', '97', '99', '97', '97', '98', '99', '99', '95', '90', '87', '85', '82', '73', '78', '100', '105', '93', '94', '98', '100', '96', '99', '93', '88', '80', '62', '49', '76', '109', '98', '85', '64', '68', '124', '124', '103', '104', '112', '112', '105', '79', '79', '89', '95', '99', '106', '102', '97', '101', '101', '101', '99', '106', '113', '103', '99', '89', '88', '91', '86', '73', '76', '83', '109', '117', '111', '103', '103', '105', '101', '93', '85', '84', '67', '55', '92', '111', '100', '76', '67', '68', '125', '126', '106', '94', '111', '109', '119', '97', '74', '84', '95', '102', '107', '105', '104', '104', '104', '108', '118', '119', '97', '90', '94', '91', '98', '105', '93', '69', '76', '73', '80', '96', '113', '125', '116', '109', '104', '91', '82', '88', '67', '63', '95', '99', '101', '78', '69', '72', '124', '127', '98', '73', '111', '113', '118', '139', '97', '78', '96', '103', '107', '104', '108', '109', '115', '123', '112', '104', '99', '100', '97', '95', '110', '134', '103', '82', '84', '85', '75', '101', '94', '109', '122', '113', '102', '90', '84', '87', '69', '63', '90', '88', '92', '85', '70', '72', '122', '126', '94', '65', '91', '116', '114', '126', '110', '77', '94', '104', '105', '107', '110', '112', '121', '121', '102', '110', '103', '109', '100', '87', '105', '119', '99', '77', '84', '81', '76', '105', '107', '92', '110', '110', '103', '93', '86', '86', '73', '70', '96', '99', '96', '85', '70', '71', '123', '124', '88', '72', '71', '99', '99', '104', '104', '83', '89', '103', '100', '102', '107', '110', '120', '109', '104', '109', '86', '73', '73', '69', '83', '92', '80', '74', '72', '77', '88', '97', '108', '99', '92', '107', '103', '94', '85', '85', '72', '70', '92', '107', '105', '85', '74', '74', '124', '124', '91', '76', '69', '82', '102', '107', '98', '80', '89', '101', '97', '101', '102', '106', '114', '100', '103', '103', '90', '81', '80', '83', '79', '76', '89', '94', '93', '93', '91', '88', '97', '103', '89', '94', '102', '92', '85', '87', '71', '91', '92', '104', '111', '79', '73', '73', '124', '125', '104', '77', '73', '73', '92', '105', '107', '85', '85', '100', '95', '98', '100', '107', '113', '103', '101', '92', '83', '87', '88', '87', '99', '105', '109', '98', '90', '90', '88', '83', '84', '93', '94', '87', '98', '94', '83', '88', '75', '75', '107', '105', '98', '72', '74', '75', '124', '123', '118', '85', '75', '69', '88', '101', '118', '98', '78', '98', '95', '95', '98', '107', '101', '99', '94', '79', '86', '92', '93', '96', '117', '115', '117', '115', '99', '97', '96', '90', '88', '90', '92', '86', '90', '94', '89', '89', '86', '68', '86', '86', '72', '74', '75', '76', '123', '122', '123', '103', '77', '73', '79', '103', '110', '102', '82', '93', '99', '98', '99', '102', '95', '98', '92', '88', '99', '97', '89', '85', '93', '104', '100', '79', '70', '66', '66', '67', '69', '84', '90', '88', '99', '98', '86', '91', '85', '75', '68', '67', '73', '73', '74', '74', '124', '123', '121', '119', '88', '76', '67', '91', '109', '120', '90', '88', '98', '98', '100', '99', '86', '100', '96', '86', '60', '61', '69', '77', '68', '64', '73', '75', '100', '96', '71', '46', '48', '58', '92', '93', '111', '102', '87', '93', '84', '69', '70', '69', '71', '71', '72', '74', '123', '121', '121', '122', '105', '74', '74', '67', '83', '97', '69', '85', '97', '98', '98', '105', '88', '89', '76', '52', '69', '90', '135', '145', '145', '138', '141', '171', '156', '149', '104', '116', '79', '68', '93', '101', '124', '95', '89', '94', '79', '65', '65', '64', '67', '67', '67', '68', '123', '120', '121', '121', '118', '86', '74', '76', '72', '69', '65', '80', '94', '100', '98', '111', '102', '81', '86', '63', '76', '98', '111', '105', '145', '177', '151', '166', '98', '100', '81', '74', '70', '85', '93', '113', '123', '91', '89', '92', '65', '40', '42', '42', '44', '47', '46', '47', '124', '123', '121', '120', '123', '98', '73', '75', '74', '75', '68', '74', '92', '104', '94', '108', '118', '92', '92', '91', '65', '62', '58', '49', '65', '79', '82', '74', '56', '60', '63', '63', '78', '88', '96', '119', '106', '78', '91', '87', '48', '24', '26', '25', '25', '27', '25', '26', '124', '123', '121', '119', '120', '112', '79', '74', '74', '73', '69', '67', '86', '99', '97', '99', '116', '104', '95', '100', '96', '84', '81', '83', '78', '75', '81', '84', '84', '84', '82', '79', '87', '94', '96', '118', '98', '82', '94', '75', '35', '30', '31', '31', '33', '34', '34', '34', '124', '122', '120', '120', '120', '119', '97', '76', '73', '72', '71', '63', '77', '95', '97', '95', '107', '109', '99', '104', '103', '98', '96', '94', '98', '113', '111', '107', '102', '95', '94', '90', '89', '93', '98', '110', '84', '92', '89', '58', '33', '34', '34', '32', '37', '38', '38', '39', '123', '122', '121', '121', '119', '119', '115', '97', '85', '88', '76', '66', '66', '89', '95', '95', '95', '108', '104', '101', '105', '101', '99', '100', '105', '117', '110', '109', '107', '98', '95', '91', '95', '94', '100', '98', '83', '95', '77', '45', '39', '37', '38', '37', '38', '42', '43', '44', '123', '123', '121', '120', '116', '119', '119', '115', '107', '109', '82', '70', '64', '73', '87', '91', '96', '103', '106', '100', '104', '103', '100', '103', '102', '103', '108', '102', '102', '103', '99', '96', '100', '97', '98', '84', '89', '89', '62', '45', '45', '42', '44', '43', '43', '47', '48', '48', '124', '124', '121', '120', '119', '118', '117', '116', '115', '116', '90', '69', '70', '63', '79', '94', '96', '101', '105', '100', '102', '101', '104', '105', '106', '102', '112', '107', '100', '105', '104', '98', '100', '93', '90', '82', '89', '77', '51', '50', '47', '47', '47', '45', '46', '47', '49', '49', '122', '122', '122', '120', '118', '118', '115', '115', '115', '116', '99', '70', '68', '65', '63', '87', '97', '100', '104', '104', '104', '104', '104', '103', '99', '95', '109', '108', '93', '94', '96', '99', '101', '90', '85', '82', '87', '55', '50', '51', '48', '49', '49', '48', '48', '46', '48', '50', '121', '122', '122', '122', '119', '119', '117', '115', '114', '113', '109', '80', '68', '70', '63', '67', '95', '100', '100', '101', '106', '106', '99', '94', '92', '107', '115', '110', '103', '91', '90', '99', '95', '87', '80', '83', '68', '42', '52', '51', '50', '50', '49', '50', '48', '45', '48', '49', '124', '122', '120', '121', '120', '120', '117', '115', '114', '114', '114', '93', '68', '68', '68', '60', '71', '95', '97', '98', '99', '103', '100', '96', '102', '110', '109', '111', '114', '105', '99', '99', '94', '83', '77', '64', '51', '53', '50', '50', '49', '49', '49', '48', '48', '47', '47', '49', '122', '122', '123', '121', '118', '119', '118', '116', '114', '115', '114', '106', '80', '66', '67', '65', '58', '75', '90', '91', '94', '100', '102', '104', '107', '109', '107', '109', '107', '110', '105', '100', '93', '76', '58', '51', '68', '54', '47', '48', '47', '48', '48', '47', '46', '47', '46', '49', '124', '125', '122', '121', '119', '118', '118', '118', '116', '115', '113', '113', '98', '72', '66', '68', '74', '72', '77', '85', '89', '96', '99', '103', '104', '99', '100', '101', '101', '104', '103', '98', '83', '62', '51', '70', '73', '52', '45', '48', '49', '49', '46', '45', '49', '48', '47', '48']\n",
            "im_list is \n"
          ]
        },
        {
          "metadata": {
            "tags": null
          },
          "name": "stderr",
          "output_type": "stream",
          "text": [
            "IOPub data rate exceeded.\n",
            "The notebook server will temporarily stop sending output\n",
            "to the client in order to avoid crashing it.\n",
            "To change this limit, set the config variable\n",
            "`--NotebookApp.iopub_data_rate_limit`.\n",
            "\n",
            "Current values:\n",
            "NotebookApp.iopub_data_rate_limit=1000000.0 (bytes/sec)\n",
            "NotebookApp.rate_limit_window=3.0 (secs)\n",
            "\n"
          ]
        },
        {
          "metadata": {
            "tags": null
          },
          "name": "stdout",
          "output_type": "stream",
          "text": [
            "\n",
            "82 78 98 126 159 179 178 183 185 185 185 185 187 187 191 198 203 204 205 205 206 204 201 198 195 193 191 186 179 172 156 130 72 49 57 67 85 107 118 120 122 120 123 122 121 120 122 121 92 90 109 140 157 174 175 186 187 186 188 185 185 187 194 197 202 206 205 205 206 204 203 199 197 194 193 191 189 185 176 159 121 53 50 65 74 94 112 121 121 119 120 121 122 121 121 120 113 103 120 147 158 168 174 180 182 188 185 189 191 192 198 200 203 205 202 201 201 199 201 197 192 190 190 188 190 191 183 176 162 84 32 56 70 91 107 110 121 120 120 121 121 122 122 120 94 104 123 145 154 162 171 176 181 185 186 191 191 195 199 202 203 203 204 205 202 199 201 195 191 192 190 186 187 189 185 184 174 146 52 43 63 80 88 116 118 122 121 121 121 122 121 121 128 126 119 141 146 163 169 173 177 181 187 189 194 196 200 203 203 203 202 203 201 201 203 199 194 193 192 189 184 187 187 184 173 175 104 36 68 80 80 100 122 119 121 121 121 122 120 120 138 105 121 139 147 168 168 162 167 175 183 188 194 197 196 201 198 200 200 200 201 201 200 197 189 190 192 189 187 187 187 184 179 177 157 37 61 63 89 91 110 118 119 122 120 120 121 121 90 100 127 130 142 163 169 167 162 173 185 187 191 193 191 194 190 196 197 198 197 194 194 192 188 187 188 188 187 188 188 183 181 175 183 87 48 67 73 98 103 117 121 121 121 120 121 120 93 113 124 128 138 169 174 168 164 166 180 185 192 191 192 192 191 197 197 198 194 190 194 198 196 189 190 191 187 188 186 186 184 175 181 129 46 58 80 102 107 119 120 120 121 122 120 120 117 112 111 118 138 163 169 164 163 160 168 182 187 188 187 187 191 194 194 194 193 190 191 195 194 191 191 191 185 186 186 188 184 175 180 147 60 55 60 103 114 114 120 121 121 120 120 118 107 104 104 119 146 155 162 165 161 155 160 179 186 186 188 190 193 197 187 184 189 190 193 193 192 191 192 193 188 188 187 186 184 178 174 163 80 69 54 93 122 114 120 121 121 120 120 119 87 107 114 120 146 161 164 165 164 155 160 175 183 187 188 195 201 200 194 181 177 182 189 192 191 189 186 195 189 189 189 184 181 176 169 171 93 63 62 77 120 119 119 122 120 121 121 119 100 113 114 122 152 170 170 165 160 158 161 173 181 182 186 190 194 200 193 195 186 184 186 188 186 188 177 187 188 183 184 184 181 180 179 181 111 63 61 74 113 121 118 120 119 119 121 121 95 104 116 126 157 172 168 165 157 155 157 166 172 166 159 166 146 160 174 171 182 183 182 177 175 179 169 171 177 179 180 180 183 186 186 184 126 74 61 63 110 119 117 117 117 119 120 118 89 100 118 132 151 164 165 161 152 150 144 155 161 155 138 132 125 100 104 119 136 161 166 167 166 166 166 162 170 171 175 174 169 160 150 158 151 82 68 52 110 120 117 118 117 119 119 120 93 111 119 143 155 157 156 155 153 148 149 150 150 137 119 105 91 82 75 87 98 106 125 148 154 150 150 151 152 152 157 145 129 113 102 135 169 92 56 61 109 119 118 119 118 119 120 118 92 105 125 141 153 155 148 145 151 144 141 138 109 61 39 31 26 28 41 63 76 83 91 111 128 135 148 143 133 135 117 83 69 83 106 124 154 101 50 75 114 120 118 117 118 121 118 117 89 103 130 144 151 148 139 137 143 139 130 86 28 60 94 93 83 47 25 35 49 66 84 98 108 135 150 139 128 94 36 24 35 38 34 84 136 109 41 88 118 118 118 118 117 118 119 117 94 104 135 149 150 142 127 135 139 128 94 30 91 108 86 99 95 88 62 39 41 48 61 97 163 183 166 160 116 25 30 54 70 79 71 44 118 108 41 87 123 118 116 117 117 118 118 116 95 109 120 140 149 149 130 135 133 109 49 57 91 67 33 46 100 150 71 61 49 39 50 85 170 205 196 193 67 36 51 36 68 122 93 72 107 103 48 78 120 119 118 115 117 119 117 117 98 113 122 142 155 158 146 134 130 100 98 111 101 92 41 29 76 135 78 78 72 70 95 139 154 190 203 193 72 51 30 8 38 171 127 72 109 105 44 78 115 118 118 117 119 117 119 119 97 114 130 155 167 161 155 143 124 120 139 142 148 156 118 103 111 117 124 137 120 145 151 180 157 183 201 210 130 17 33 14 58 136 117 81 109 109 47 80 111 120 117 119 118 118 118 118 107 133 156 166 172 171 168 167 145 147 152 155 134 122 141 139 144 149 149 132 154 159 163 177 143 185 202 202 186 88 83 86 110 130 116 115 120 110 58 95 113 118 119 118 118 117 117 116 129 150 161 170 176 179 183 189 192 167 144 158 164 150 134 130 135 147 132 128 160 160 184 164 149 174 192 202 200 143 120 128 132 133 138 134 134 123 78 107 118 117 118 116 116 115 115 118 133 149 157 163 172 176 184 197 203 198 170 156 157 165 176 176 169 160 136 158 167 164 196 171 159 169 180 199 201 170 151 155 145 142 145 141 141 140 100 114 118 117 116 116 115 115 116 116 127 140 151 154 161 166 178 197 202 202 198 187 173 156 153 154 148 136 158 184 172 173 183 165 165 167 175 196 206 183 151 152 164 162 156 145 150 157 115 115 118 118 115 116 117 116 116 116 118 130 141 148 150 159 171 188 199 205 207 207 198 184 165 148 150 176 197 185 179 172 170 165 173 166 170 191 206 186 171 149 150 161 157 157 165 167 126 114 117 115 117 116 116 116 114 115 111 116 129 133 141 150 157 171 180 193 194 191 197 199 200 198 202 207 198 187 176 167 165 160 157 143 158 174 196 193 177 174 161 168 170 176 182 176 133 112 117 115 115 116 116 116 116 115 108 107 121 126 129 137 143 151 160 168 172 173 180 185 192 198 201 201 194 179 167 161 150 129 126 136 151 165 196 195 171 182 184 182 185 188 187 181 131 112 117 116 116 115 114 115 117 117 116 113 114 118 126 134 137 132 140 148 155 158 159 165 177 192 199 199 190 172 159 146 146 136 136 147 163 166 196 190 174 183 190 189 187 188 182 171 130 116 115 116 115 116 115 114 115 118 121 125 119 120 133 138 137 132 131 134 137 144 149 160 178 184 186 188 178 165 146 129 153 160 149 147 161 175 196 188 181 175 187 185 177 168 163 153 128 117 116 114 116 116 117 116 115 117 117 123 124 127 135 146 144 139 132 133 134 137 148 160 168 172 174 172 162 156 134 124 148 154 139 126 134 158 161 168 170 167 180 180 170 156 150 142 123 118 116 115 115 117 115 115 114 114 102 108 112 121 132 148 148 141 138 135 133 133 142 149 154 160 163 161 155 139 119 121 139 135 115 82 87 117 134 137 140 154 170 169 162 149 137 137 117 115 113 116 115 116 115 116 115 114 97 97 113 117 132 139 147 143 143 138 134 130 133 140 146 152 153 154 146 129 125 110 114 96 44 52 72 91 116 109 124 151 160 158 149 142 139 137 117 114 115 115 115 113 116 116 113 115 99 105 113 111 123 133 145 149 147 142 143 136 131 136 139 146 150 147 135 132 141 107 75 60 64 68 76 92 115 108 118 143 155 150 140 142 150 140 116 114 115 115 115 114 116 115 115 114 107 105 115 109 119 129 140 144 150 152 151 140 138 133 136 142 147 142 129 142 152 125 117 106 105 95 96 85 114 131 119 140 152 143 137 147 156 142 114 112 113 113 114 113 114 114 113 113 105 108 112 107 105 118 134 140 149 146 144 142 139 130 136 145 143 133 132 148 153 149 132 127 117 121 105 88 118 128 123 137 153 140 140 152 158 135 111 114 113 113 114 114 114 113 113 112 106 104 108 106 104 109 129 135 142 144 145 145 141 134 136 134 135 132 154 162 148 139 131 121 126 131 88 85 127 126 117 140 146 143 144 153 160 126 110 114 113 113 113 114 114 113 114 113 102 105 110 103 100 106 123 121 127 138 143 144 145 147 144 143 139 144 154 142 143 130 122 128 131 128 68 89 131 122 121 138 146 150 150 155 152 121 110 113 114 113 113 113 113 114 114 114 99 106 110 106 102 101 115 117 122 136 139 151 150 151 146 147 142 149 138 123 134 119 120 127 133 115 76 100 124 120 117 142 156 154 156 157 138 114 111 113 111 113 115 113 113 113 112 113 91 97 106 112 103 101 111 120 126 136 140 146 146 153 148 142 141 149 137 119 123 120 114 121 98 88 83 89 109 115 123 139 157 157 159 152 131 108 113 115 113 113 113 113 112 113 113 113 87 94 100 105 102 100 112 123 130 137 143 155 157 153 152 138 147 135 122 100 88 80 57 54 52 63 66 48 57 103 128 136 153 160 161 148 120 111 112 112 114 112 113 112 111 112 112 113 81 85 96 100 104 99 103 121 134 141 147 154 157 155 149 150 153 110 59 47 58 78 114 142 160 170 160 137 78 61 88 128 150 167 163 150 113 109 112 112 112 112 113 112 111 112 112 112 74 80 95 98 102 93 91 104 126 139 150 150 151 153 164 156 110 55 65 136 160 177 179 176 174 155 130 145 157 127 68 80 136 168 160 145 110 109 112 113 112 111 111 112 111 112 112 113 69 80 94 93 97 97 91 97 116 135 146 146 152 158 166 150 109 131 169 159 147 138 142 146 144 126 121 133 148 155 141 96 127 168 163 145 105 110 111 111 111 112 111 111 112 112 111 112 65 79 90 95 95 102 95 88 102 124 140 142 148 148 147 119 143 163 155 155 145 130 136 132 120 134 155 140 138 135 139 135 118 158 164 139 103 108 110 112 110 110 111 112 111 112 112 112 61 73 84 91 94 96 104 96 91 114 133 135 138 142 130 137 152 137 150 145 147 149 123 121 130 137 127 124 126 137 137 139 129 135 158 129 101 106 108 110 110 112 111 111 113 112 111 111 60 65 86 95 95 95 104 102 93 100 118 129 127 118 120 143 157 167 155 150 151 149 141 162 176 172 161 166 147 143 140 143 149 140 146 121 97 106 105 107 109 110 109 109 111 111 110 110 61 62 73 85 88 94 101 98 96 102 107 114 114 111 124 134 141 155 151 158 163 160 172 177 164 167 167 167 173 159 149 140 152 145 135 107 95 102 103 105 107 109 110 108 111 110 110 109\n",
            "<class 'str'>\n",
            "image is \n",
            "['82', '78', '98', '126', '159', '179', '178', '183', '185', '185', '185', '185', '187', '187', '191', '198', '203', '204', '205', '205', '206', '204', '201', '198', '195', '193', '191', '186', '179', '172', '156', '130', '72', '49', '57', '67', '85', '107', '118', '120', '122', '120', '123', '122', '121', '120', '122', '121', '92', '90', '109', '140', '157', '174', '175', '186', '187', '186', '188', '185', '185', '187', '194', '197', '202', '206', '205', '205', '206', '204', '203', '199', '197', '194', '193', '191', '189', '185', '176', '159', '121', '53', '50', '65', '74', '94', '112', '121', '121', '119', '120', '121', '122', '121', '121', '120', '113', '103', '120', '147', '158', '168', '174', '180', '182', '188', '185', '189', '191', '192', '198', '200', '203', '205', '202', '201', '201', '199', '201', '197', '192', '190', '190', '188', '190', '191', '183', '176', '162', '84', '32', '56', '70', '91', '107', '110', '121', '120', '120', '121', '121', '122', '122', '120', '94', '104', '123', '145', '154', '162', '171', '176', '181', '185', '186', '191', '191', '195', '199', '202', '203', '203', '204', '205', '202', '199', '201', '195', '191', '192', '190', '186', '187', '189', '185', '184', '174', '146', '52', '43', '63', '80', '88', '116', '118', '122', '121', '121', '121', '122', '121', '121', '128', '126', '119', '141', '146', '163', '169', '173', '177', '181', '187', '189', '194', '196', '200', '203', '203', '203', '202', '203', '201', '201', '203', '199', '194', '193', '192', '189', '184', '187', '187', '184', '173', '175', '104', '36', '68', '80', '80', '100', '122', '119', '121', '121', '121', '122', '120', '120', '138', '105', '121', '139', '147', '168', '168', '162', '167', '175', '183', '188', '194', '197', '196', '201', '198', '200', '200', '200', '201', '201', '200', '197', '189', '190', '192', '189', '187', '187', '187', '184', '179', '177', '157', '37', '61', '63', '89', '91', '110', '118', '119', '122', '120', '120', '121', '121', '90', '100', '127', '130', '142', '163', '169', '167', '162', '173', '185', '187', '191', '193', '191', '194', '190', '196', '197', '198', '197', '194', '194', '192', '188', '187', '188', '188', '187', '188', '188', '183', '181', '175', '183', '87', '48', '67', '73', '98', '103', '117', '121', '121', '121', '120', '121', '120', '93', '113', '124', '128', '138', '169', '174', '168', '164', '166', '180', '185', '192', '191', '192', '192', '191', '197', '197', '198', '194', '190', '194', '198', '196', '189', '190', '191', '187', '188', '186', '186', '184', '175', '181', '129', '46', '58', '80', '102', '107', '119', '120', '120', '121', '122', '120', '120', '117', '112', '111', '118', '138', '163', '169', '164', '163', '160', '168', '182', '187', '188', '187', '187', '191', '194', '194', '194', '193', '190', '191', '195', '194', '191', '191', '191', '185', '186', '186', '188', '184', '175', '180', '147', '60', '55', '60', '103', '114', '114', '120', '121', '121', '120', '120', '118', '107', '104', '104', '119', '146', '155', '162', '165', '161', '155', '160', '179', '186', '186', '188', '190', '193', '197', '187', '184', '189', '190', '193', '193', '192', '191', '192', '193', '188', '188', '187', '186', '184', '178', '174', '163', '80', '69', '54', '93', '122', '114', '120', '121', '121', '120', '120', '119', '87', '107', '114', '120', '146', '161', '164', '165', '164', '155', '160', '175', '183', '187', '188', '195', '201', '200', '194', '181', '177', '182', '189', '192', '191', '189', '186', '195', '189', '189', '189', '184', '181', '176', '169', '171', '93', '63', '62', '77', '120', '119', '119', '122', '120', '121', '121', '119', '100', '113', '114', '122', '152', '170', '170', '165', '160', '158', '161', '173', '181', '182', '186', '190', '194', '200', '193', '195', '186', '184', '186', '188', '186', '188', '177', '187', '188', '183', '184', '184', '181', '180', '179', '181', '111', '63', '61', '74', '113', '121', '118', '120', '119', '119', '121', '121', '95', '104', '116', '126', '157', '172', '168', '165', '157', '155', '157', '166', '172', '166', '159', '166', '146', '160', '174', '171', '182', '183', '182', '177', '175', '179', '169', '171', '177', '179', '180', '180', '183', '186', '186', '184', '126', '74', '61', '63', '110', '119', '117', '117', '117', '119', '120', '118', '89', '100', '118', '132', '151', '164', '165', '161', '152', '150', '144', '155', '161', '155', '138', '132', '125', '100', '104', '119', '136', '161', '166', '167', '166', '166', '166', '162', '170', '171', '175', '174', '169', '160', '150', '158', '151', '82', '68', '52', '110', '120', '117', '118', '117', '119', '119', '120', '93', '111', '119', '143', '155', '157', '156', '155', '153', '148', '149', '150', '150', '137', '119', '105', '91', '82', '75', '87', '98', '106', '125', '148', '154', '150', '150', '151', '152', '152', '157', '145', '129', '113', '102', '135', '169', '92', '56', '61', '109', '119', '118', '119', '118', '119', '120', '118', '92', '105', '125', '141', '153', '155', '148', '145', '151', '144', '141', '138', '109', '61', '39', '31', '26', '28', '41', '63', '76', '83', '91', '111', '128', '135', '148', '143', '133', '135', '117', '83', '69', '83', '106', '124', '154', '101', '50', '75', '114', '120', '118', '117', '118', '121', '118', '117', '89', '103', '130', '144', '151', '148', '139', '137', '143', '139', '130', '86', '28', '60', '94', '93', '83', '47', '25', '35', '49', '66', '84', '98', '108', '135', '150', '139', '128', '94', '36', '24', '35', '38', '34', '84', '136', '109', '41', '88', '118', '118', '118', '118', '117', '118', '119', '117', '94', '104', '135', '149', '150', '142', '127', '135', '139', '128', '94', '30', '91', '108', '86', '99', '95', '88', '62', '39', '41', '48', '61', '97', '163', '183', '166', '160', '116', '25', '30', '54', '70', '79', '71', '44', '118', '108', '41', '87', '123', '118', '116', '117', '117', '118', '118', '116', '95', '109', '120', '140', '149', '149', '130', '135', '133', '109', '49', '57', '91', '67', '33', '46', '100', '150', '71', '61', '49', '39', '50', '85', '170', '205', '196', '193', '67', '36', '51', '36', '68', '122', '93', '72', '107', '103', '48', '78', '120', '119', '118', '115', '117', '119', '117', '117', '98', '113', '122', '142', '155', '158', '146', '134', '130', '100', '98', '111', '101', '92', '41', '29', '76', '135', '78', '78', '72', '70', '95', '139', '154', '190', '203', '193', '72', '51', '30', '8', '38', '171', '127', '72', '109', '105', '44', '78', '115', '118', '118', '117', '119', '117', '119', '119', '97', '114', '130', '155', '167', '161', '155', '143', '124', '120', '139', '142', '148', '156', '118', '103', '111', '117', '124', '137', '120', '145', '151', '180', '157', '183', '201', '210', '130', '17', '33', '14', '58', '136', '117', '81', '109', '109', '47', '80', '111', '120', '117', '119', '118', '118', '118', '118', '107', '133', '156', '166', '172', '171', '168', '167', '145', '147', '152', '155', '134', '122', '141', '139', '144', '149', '149', '132', '154', '159', '163', '177', '143', '185', '202', '202', '186', '88', '83', '86', '110', '130', '116', '115', '120', '110', '58', '95', '113', '118', '119', '118', '118', '117', '117', '116', '129', '150', '161', '170', '176', '179', '183', '189', '192', '167', '144', '158', '164', '150', '134', '130', '135', '147', '132', '128', '160', '160', '184', '164', '149', '174', '192', '202', '200', '143', '120', '128', '132', '133', '138', '134', '134', '123', '78', '107', '118', '117', '118', '116', '116', '115', '115', '118', '133', '149', '157', '163', '172', '176', '184', '197', '203', '198', '170', '156', '157', '165', '176', '176', '169', '160', '136', '158', '167', '164', '196', '171', '159', '169', '180', '199', '201', '170', '151', '155', '145', '142', '145', '141', '141', '140', '100', '114', '118', '117', '116', '116', '115', '115', '116', '116', '127', '140', '151', '154', '161', '166', '178', '197', '202', '202', '198', '187', '173', '156', '153', '154', '148', '136', '158', '184', '172', '173', '183', '165', '165', '167', '175', '196', '206', '183', '151', '152', '164', '162', '156', '145', '150', '157', '115', '115', '118', '118', '115', '116', '117', '116', '116', '116', '118', '130', '141', '148', '150', '159', '171', '188', '199', '205', '207', '207', '198', '184', '165', '148', '150', '176', '197', '185', '179', '172', '170', '165', '173', '166', '170', '191', '206', '186', '171', '149', '150', '161', '157', '157', '165', '167', '126', '114', '117', '115', '117', '116', '116', '116', '114', '115', '111', '116', '129', '133', '141', '150', '157', '171', '180', '193', '194', '191', '197', '199', '200', '198', '202', '207', '198', '187', '176', '167', '165', '160', '157', '143', '158', '174', '196', '193', '177', '174', '161', '168', '170', '176', '182', '176', '133', '112', '117', '115', '115', '116', '116', '116', '116', '115', '108', '107', '121', '126', '129', '137', '143', '151', '160', '168', '172', '173', '180', '185', '192', '198', '201', '201', '194', '179', '167', '161', '150', '129', '126', '136', '151', '165', '196', '195', '171', '182', '184', '182', '185', '188', '187', '181', '131', '112', '117', '116', '116', '115', '114', '115', '117', '117', '116', '113', '114', '118', '126', '134', '137', '132', '140', '148', '155', '158', '159', '165', '177', '192', '199', '199', '190', '172', '159', '146', '146', '136', '136', '147', '163', '166', '196', '190', '174', '183', '190', '189', '187', '188', '182', '171', '130', '116', '115', '116', '115', '116', '115', '114', '115', '118', '121', '125', '119', '120', '133', '138', '137', '132', '131', '134', '137', '144', '149', '160', '178', '184', '186', '188', '178', '165', '146', '129', '153', '160', '149', '147', '161', '175', '196', '188', '181', '175', '187', '185', '177', '168', '163', '153', '128', '117', '116', '114', '116', '116', '117', '116', '115', '117', '117', '123', '124', '127', '135', '146', '144', '139', '132', '133', '134', '137', '148', '160', '168', '172', '174', '172', '162', '156', '134', '124', '148', '154', '139', '126', '134', '158', '161', '168', '170', '167', '180', '180', '170', '156', '150', '142', '123', '118', '116', '115', '115', '117', '115', '115', '114', '114', '102', '108', '112', '121', '132', '148', '148', '141', '138', '135', '133', '133', '142', '149', '154', '160', '163', '161', '155', '139', '119', '121', '139', '135', '115', '82', '87', '117', '134', '137', '140', '154', '170', '169', '162', '149', '137', '137', '117', '115', '113', '116', '115', '116', '115', '116', '115', '114', '97', '97', '113', '117', '132', '139', '147', '143', '143', '138', '134', '130', '133', '140', '146', '152', '153', '154', '146', '129', '125', '110', '114', '96', '44', '52', '72', '91', '116', '109', '124', '151', '160', '158', '149', '142', '139', '137', '117', '114', '115', '115', '115', '113', '116', '116', '113', '115', '99', '105', '113', '111', '123', '133', '145', '149', '147', '142', '143', '136', '131', '136', '139', '146', '150', '147', '135', '132', '141', '107', '75', '60', '64', '68', '76', '92', '115', '108', '118', '143', '155', '150', '140', '142', '150', '140', '116', '114', '115', '115', '115', '114', '116', '115', '115', '114', '107', '105', '115', '109', '119', '129', '140', '144', '150', '152', '151', '140', '138', '133', '136', '142', '147', '142', '129', '142', '152', '125', '117', '106', '105', '95', '96', '85', '114', '131', '119', '140', '152', '143', '137', '147', '156', '142', '114', '112', '113', '113', '114', '113', '114', '114', '113', '113', '105', '108', '112', '107', '105', '118', '134', '140', '149', '146', '144', '142', '139', '130', '136', '145', '143', '133', '132', '148', '153', '149', '132', '127', '117', '121', '105', '88', '118', '128', '123', '137', '153', '140', '140', '152', '158', '135', '111', '114', '113', '113', '114', '114', '114', '113', '113', '112', '106', '104', '108', '106', '104', '109', '129', '135', '142', '144', '145', '145', '141', '134', '136', '134', '135', '132', '154', '162', '148', '139', '131', '121', '126', '131', '88', '85', '127', '126', '117', '140', '146', '143', '144', '153', '160', '126', '110', '114', '113', '113', '113', '114', '114', '113', '114', '113', '102', '105', '110', '103', '100', '106', '123', '121', '127', '138', '143', '144', '145', '147', '144', '143', '139', '144', '154', '142', '143', '130', '122', '128', '131', '128', '68', '89', '131', '122', '121', '138', '146', '150', '150', '155', '152', '121', '110', '113', '114', '113', '113', '113', '113', '114', '114', '114', '99', '106', '110', '106', '102', '101', '115', '117', '122', '136', '139', '151', '150', '151', '146', '147', '142', '149', '138', '123', '134', '119', '120', '127', '133', '115', '76', '100', '124', '120', '117', '142', '156', '154', '156', '157', '138', '114', '111', '113', '111', '113', '115', '113', '113', '113', '112', '113', '91', '97', '106', '112', '103', '101', '111', '120', '126', '136', '140', '146', '146', '153', '148', '142', '141', '149', '137', '119', '123', '120', '114', '121', '98', '88', '83', '89', '109', '115', '123', '139', '157', '157', '159', '152', '131', '108', '113', '115', '113', '113', '113', '113', '112', '113', '113', '113', '87', '94', '100', '105', '102', '100', '112', '123', '130', '137', '143', '155', '157', '153', '152', '138', '147', '135', '122', '100', '88', '80', '57', '54', '52', '63', '66', '48', '57', '103', '128', '136', '153', '160', '161', '148', '120', '111', '112', '112', '114', '112', '113', '112', '111', '112', '112', '113', '81', '85', '96', '100', '104', '99', '103', '121', '134', '141', '147', '154', '157', '155', '149', '150', '153', '110', '59', '47', '58', '78', '114', '142', '160', '170', '160', '137', '78', '61', '88', '128', '150', '167', '163', '150', '113', '109', '112', '112', '112', '112', '113', '112', '111', '112', '112', '112', '74', '80', '95', '98', '102', '93', '91', '104', '126', '139', '150', '150', '151', '153', '164', '156', '110', '55', '65', '136', '160', '177', '179', '176', '174', '155', '130', '145', '157', '127', '68', '80', '136', '168', '160', '145', '110', '109', '112', '113', '112', '111', '111', '112', '111', '112', '112', '113', '69', '80', '94', '93', '97', '97', '91', '97', '116', '135', '146', '146', '152', '158', '166', '150', '109', '131', '169', '159', '147', '138', '142', '146', '144', '126', '121', '133', '148', '155', '141', '96', '127', '168', '163', '145', '105', '110', '111', '111', '111', '112', '111', '111', '112', '112', '111', '112', '65', '79', '90', '95', '95', '102', '95', '88', '102', '124', '140', '142', '148', '148', '147', '119', '143', '163', '155', '155', '145', '130', '136', '132', '120', '134', '155', '140', '138', '135', '139', '135', '118', '158', '164', '139', '103', '108', '110', '112', '110', '110', '111', '112', '111', '112', '112', '112', '61', '73', '84', '91', '94', '96', '104', '96', '91', '114', '133', '135', '138', '142', '130', '137', '152', '137', '150', '145', '147', '149', '123', '121', '130', '137', '127', '124', '126', '137', '137', '139', '129', '135', '158', '129', '101', '106', '108', '110', '110', '112', '111', '111', '113', '112', '111', '111', '60', '65', '86', '95', '95', '95', '104', '102', '93', '100', '118', '129', '127', '118', '120', '143', '157', '167', '155', '150', '151', '149', '141', '162', '176', '172', '161', '166', '147', '143', '140', '143', '149', '140', '146', '121', '97', '106', '105', '107', '109', '110', '109', '109', '111', '111', '110', '110', '61', '62', '73', '85', '88', '94', '101', '98', '96', '102', '107', '114', '114', '111', '124', '134', '141', '155', '151', '158', '163', '160', '172', '177', '164', '167', '167', '167', '173', '159', '149', '140', '152', '145', '135', '107', '95', '102', '103', '105', '107', '109', '110', '108', '111', '110', '110', '109']\n",
            "im_list is \n"
          ]
        },
        {
          "metadata": {
            "tags": null
          },
          "name": "stderr",
          "output_type": "stream",
          "text": [
            "IOPub data rate exceeded.\n",
            "The notebook server will temporarily stop sending output\n",
            "to the client in order to avoid crashing it.\n",
            "To change this limit, set the config variable\n",
            "`--NotebookApp.iopub_data_rate_limit`.\n",
            "\n",
            "Current values:\n",
            "NotebookApp.iopub_data_rate_limit=1000000.0 (bytes/sec)\n",
            "NotebookApp.rate_limit_window=3.0 (secs)\n",
            "\n"
          ]
        },
        {
          "metadata": {
            "tags": null
          },
          "name": "stdout",
          "output_type": "stream",
          "text": [
            "\n",
            "141 139 138 147 150 134 117 103 118 125 130 131 151 75 9 20 24 19 26 32 31 34 38 32 51 39 40 35 30 34 32 31 21 15 19 19 13 20 11 14 8 6 4 6 8 3 5 5 140 140 141 141 151 141 126 105 113 123 128 141 99 10 21 24 22 23 39 40 48 56 68 70 92 75 74 85 63 48 41 30 36 31 24 26 30 17 16 12 10 7 5 4 8 5 4 5 142 139 139 142 151 144 131 111 108 122 136 123 14 21 17 21 43 53 61 73 86 86 97 118 119 122 125 121 107 103 113 96 61 60 50 28 25 34 18 18 17 14 7 5 4 7 5 6 146 139 140 141 148 147 135 119 107 117 138 57 5 22 33 50 59 64 71 79 84 94 103 120 114 116 127 121 112 115 110 109 101 91 68 61 51 34 31 21 22 20 11 5 6 9 6 6 143 142 140 140 145 152 140 125 106 120 112 12 26 38 54 53 56 67 73 81 93 97 103 111 113 124 138 131 116 114 107 101 86 81 75 77 79 74 56 42 25 20 20 13 3 7 6 6 145 142 140 141 144 151 145 131 109 120 53 13 47 48 53 58 61 71 74 85 97 103 110 114 122 136 137 133 130 130 113 103 93 83 78 76 72 67 72 66 50 43 33 17 6 5 7 6 144 143 140 140 143 152 150 134 119 102 14 32 51 47 55 59 64 79 86 92 101 115 120 128 141 153 150 140 139 139 123 102 91 80 75 74 71 63 66 67 72 53 23 25 15 12 12 7 146 143 141 140 140 146 151 137 131 85 13 42 48 49 55 60 72 82 88 94 103 115 124 133 142 157 156 145 148 141 120 106 92 83 77 74 70 64 63 66 68 55 31 27 21 10 12 1 151 144 142 140 140 144 152 141 138 69 16 44 47 48 59 63 68 81 89 92 100 109 120 140 156 156 157 154 148 137 129 112 85 79 81 79 72 69 66 58 61 57 35 30 24 18 11 33 151 146 142 141 140 142 152 144 142 50 16 46 47 53 61 65 69 79 85 88 98 102 126 149 157 157 152 147 146 134 123 107 93 83 80 79 73 70 71 61 60 59 38 43 27 25 13 97 149 148 143 141 141 139 147 147 141 36 19 48 49 53 58 68 72 80 93 105 107 107 130 153 158 156 149 146 142 135 118 103 91 87 78 78 74 70 71 64 61 60 42 42 44 28 12 55 143 146 144 141 141 140 144 150 139 31 28 47 51 52 56 69 78 84 98 109 113 112 143 157 156 164 156 144 128 125 118 105 93 89 81 78 78 78 73 67 61 62 50 40 40 27 9 58 141 148 145 142 141 141 141 150 146 32 33 50 45 56 65 71 78 86 101 115 124 128 156 159 153 152 162 142 124 128 120 106 101 92 84 83 82 76 73 72 65 61 58 37 30 29 17 23 140 146 144 143 141 141 141 147 150 43 41 51 47 53 56 67 80 96 115 130 133 137 153 158 148 144 146 137 139 133 135 125 106 95 91 77 76 75 73 71 65 62 57 46 41 27 18 12 138 146 147 143 142 140 143 144 155 64 44 53 38 22 16 30 44 62 88 118 119 137 155 154 151 156 108 99 108 90 72 76 82 58 66 61 54 68 74 66 66 63 53 55 42 19 19 74 138 144 147 144 142 142 142 143 156 82 44 37 8 5 8 20 19 40 51 73 103 129 150 170 169 160 110 101 118 68 42 33 32 7 11 27 31 41 44 65 65 65 53 54 37 12 43 115 137 140 147 145 143 143 142 139 155 82 39 12 19 42 69 61 36 34 48 59 77 109 141 160 162 154 131 90 84 83 45 32 63 83 71 54 45 35 17 43 68 62 56 48 39 12 27 45 136 139 146 146 143 142 143 139 153 104 34 19 54 78 97 117 112 75 59 63 67 98 128 130 122 130 117 84 62 50 80 118 169 170 138 113 95 70 44 34 58 63 56 45 33 12 48 55 136 138 142 146 144 142 141 139 146 130 37 39 63 54 56 84 119 113 100 96 75 85 117 126 106 113 105 89 87 95 106 112 118 111 93 86 86 85 64 50 54 71 57 44 28 35 58 29 135 138 140 145 144 142 141 139 146 120 43 55 33 25 58 30 82 88 76 91 90 71 94 127 155 130 110 89 92 92 74 72 83 88 63 52 49 65 66 63 73 76 56 44 26 51 43 83 133 137 140 144 145 142 141 138 147 110 47 58 24 20 144 42 7 48 121 68 81 82 87 121 170 135 125 92 95 67 78 89 25 35 43 88 22 45 61 72 85 72 51 42 33 48 85 92 133 135 139 143 145 143 141 139 148 100 49 64 49 68 86 86 89 134 162 109 78 93 91 108 142 117 122 124 88 72 144 180 46 20 108 126 37 53 77 89 97 68 49 43 31 57 130 103 134 135 138 142 145 143 141 139 147 93 47 78 62 58 80 98 128 153 138 127 103 87 87 111 128 113 102 124 108 105 117 122 127 123 99 99 96 71 90 104 92 75 47 45 32 110 174 135 134 134 137 141 144 144 141 138 147 79 51 88 100 84 84 100 112 123 112 103 90 79 90 105 111 108 107 106 139 128 107 99 123 124 106 91 66 96 135 112 92 76 47 44 34 117 183 125 133 134 136 140 143 146 142 139 145 64 55 90 105 119 127 125 118 104 97 88 81 89 99 101 105 101 93 96 109 136 144 132 104 88 83 87 111 143 134 112 95 76 48 43 38 74 106 85 131 134 135 137 143 145 143 141 142 66 65 94 108 123 123 130 114 113 97 72 95 104 119 117 116 103 99 97 100 118 135 146 145 137 125 128 130 127 113 99 96 79 50 48 40 77 106 56 133 133 136 137 141 144 143 143 140 67 72 100 117 121 140 148 134 119 82 76 103 119 136 144 138 115 91 84 86 126 160 157 155 156 144 135 131 124 113 99 92 81 57 49 44 84 114 72 134 133 135 138 139 143 144 145 132 58 71 100 113 130 154 154 123 89 92 100 117 133 162 195 165 142 104 87 89 90 137 154 165 176 172 161 143 136 117 102 87 75 57 50 49 54 85 78 133 134 133 137 138 142 144 147 121 49 70 90 104 133 153 142 111 88 115 126 131 135 161 218 180 148 134 129 125 92 122 149 137 159 186 173 148 132 117 103 80 66 54 54 50 69 75 65 135 134 132 136 138 141 143 148 128 45 66 83 104 119 137 127 101 61 86 97 100 119 131 139 141 132 134 138 130 80 116 165 139 122 152 173 152 125 112 99 77 65 52 54 53 59 39 67 137 135 132 134 137 140 142 146 143 56 56 73 88 93 99 105 110 56 24 26 27 44 82 102 70 37 36 38 45 45 110 124 119 99 107 144 137 117 104 87 71 56 51 53 58 37 36 84 138 137 133 133 138 140 141 140 147 63 48 62 65 68 81 85 106 100 79 88 86 89 81 59 64 118 101 87 86 96 100 104 106 114 99 119 112 96 89 76 58 56 56 58 52 61 101 89 141 139 133 132 137 138 140 139 149 64 44 55 61 67 70 73 84 90 74 80 96 148 190 142 123 161 140 120 98 97 103 104 108 108 97 92 86 85 79 67 55 62 61 61 51 63 77 34 139 139 134 131 136 138 140 139 150 74 39 58 55 51 64 67 71 75 77 79 115 162 168 159 120 147 158 124 97 95 104 109 107 101 80 78 75 73 76 65 62 66 65 59 48 63 32 0 140 140 135 129 133 139 140 138 149 95 32 61 66 51 63 65 73 74 84 90 122 157 173 170 132 163 166 122 106 94 104 106 101 96 91 83 61 69 77 63 64 79 71 56 50 67 61 2 140 141 135 129 132 137 140 139 147 116 34 60 102 61 48 51 72 81 91 106 133 159 173 151 131 166 159 121 109 94 96 94 79 67 101 82 60 93 85 68 77 86 70 46 51 56 96 81 139 141 134 131 132 135 139 140 139 136 47 46 133 116 74 61 51 67 86 96 112 158 174 168 166 181 147 125 126 107 99 79 53 67 89 75 106 119 83 77 95 89 62 44 54 50 82 105 139 142 135 131 133 135 138 140 136 144 73 36 100 145 82 80 50 41 42 49 75 77 92 103 101 90 83 84 61 66 59 44 83 119 101 115 146 113 77 85 104 86 52 47 65 51 56 67 141 143 136 130 132 134 140 140 135 141 107 34 66 122 95 77 70 74 86 95 140 172 181 156 175 190 167 118 83 85 81 96 115 119 114 146 131 90 84 104 102 75 41 56 73 46 56 80 144 141 136 130 132 133 139 139 134 134 125 53 45 93 99 79 67 73 84 103 113 135 157 174 175 160 143 123 106 95 99 91 119 118 121 128 101 78 92 102 87 52 45 77 68 42 40 75 144 138 136 132 134 132 137 139 135 131 127 88 35 66 93 77 70 65 92 110 139 161 160 159 164 166 156 126 109 110 85 102 132 114 119 112 88 77 88 82 63 38 63 85 53 46 40 53 140 137 138 133 134 130 135 140 136 131 120 109 53 41 75 79 71 64 69 84 108 140 156 158 166 169 143 121 116 93 87 124 118 112 116 91 71 82 89 73 41 49 87 76 42 60 39 32 138 138 137 133 134 128 135 139 136 133 119 109 83 37 54 75 77 75 71 75 81 79 88 104 96 92 97 100 89 81 109 119 103 105 90 72 70 82 82 54 44 80 93 47 54 68 36 25 143 141 138 136 135 129 133 136 134 131 121 107 94 60 39 61 80 80 75 80 85 94 82 89 93 88 91 94 90 102 115 112 102 91 71 67 72 84 69 43 68 95 60 43 78 60 34 27 141 141 140 137 136 133 133 133 138 133 121 107 91 78 41 48 74 89 86 84 92 105 98 93 96 101 107 107 115 126 128 114 97 70 68 73 79 76 57 57 91 64 43 89 72 58 29 27 139 139 141 138 136 134 130 132 139 138 129 111 94 81 56 35 60 87 102 108 112 116 126 114 124 140 138 135 139 141 128 103 80 63 72 81 82 66 55 87 59 45 98 83 68 56 25 29 137 140 142 139 136 134 128 129 136 141 133 114 96 81 66 41 50 77 96 103 107 119 150 154 165 172 156 141 142 141 123 101 65 67 80 82 72 62 73 55 57 109 93 78 76 40 25 27 133 140 143 141 137 135 129 128 137 141 130 117 98 80 66 53 37 65 79 95 95 127 154 153 160 170 149 132 132 132 110 77 53 76 80 77 64 58 46 70 117 101 91 86 66 24 28 27\n",
            "<class 'str'>\n",
            "image is \n",
            "['141', '139', '138', '147', '150', '134', '117', '103', '118', '125', '130', '131', '151', '75', '9', '20', '24', '19', '26', '32', '31', '34', '38', '32', '51', '39', '40', '35', '30', '34', '32', '31', '21', '15', '19', '19', '13', '20', '11', '14', '8', '6', '4', '6', '8', '3', '5', '5', '140', '140', '141', '141', '151', '141', '126', '105', '113', '123', '128', '141', '99', '10', '21', '24', '22', '23', '39', '40', '48', '56', '68', '70', '92', '75', '74', '85', '63', '48', '41', '30', '36', '31', '24', '26', '30', '17', '16', '12', '10', '7', '5', '4', '8', '5', '4', '5', '142', '139', '139', '142', '151', '144', '131', '111', '108', '122', '136', '123', '14', '21', '17', '21', '43', '53', '61', '73', '86', '86', '97', '118', '119', '122', '125', '121', '107', '103', '113', '96', '61', '60', '50', '28', '25', '34', '18', '18', '17', '14', '7', '5', '4', '7', '5', '6', '146', '139', '140', '141', '148', '147', '135', '119', '107', '117', '138', '57', '5', '22', '33', '50', '59', '64', '71', '79', '84', '94', '103', '120', '114', '116', '127', '121', '112', '115', '110', '109', '101', '91', '68', '61', '51', '34', '31', '21', '22', '20', '11', '5', '6', '9', '6', '6', '143', '142', '140', '140', '145', '152', '140', '125', '106', '120', '112', '12', '26', '38', '54', '53', '56', '67', '73', '81', '93', '97', '103', '111', '113', '124', '138', '131', '116', '114', '107', '101', '86', '81', '75', '77', '79', '74', '56', '42', '25', '20', '20', '13', '3', '7', '6', '6', '145', '142', '140', '141', '144', '151', '145', '131', '109', '120', '53', '13', '47', '48', '53', '58', '61', '71', '74', '85', '97', '103', '110', '114', '122', '136', '137', '133', '130', '130', '113', '103', '93', '83', '78', '76', '72', '67', '72', '66', '50', '43', '33', '17', '6', '5', '7', '6', '144', '143', '140', '140', '143', '152', '150', '134', '119', '102', '14', '32', '51', '47', '55', '59', '64', '79', '86', '92', '101', '115', '120', '128', '141', '153', '150', '140', '139', '139', '123', '102', '91', '80', '75', '74', '71', '63', '66', '67', '72', '53', '23', '25', '15', '12', '12', '7', '146', '143', '141', '140', '140', '146', '151', '137', '131', '85', '13', '42', '48', '49', '55', '60', '72', '82', '88', '94', '103', '115', '124', '133', '142', '157', '156', '145', '148', '141', '120', '106', '92', '83', '77', '74', '70', '64', '63', '66', '68', '55', '31', '27', '21', '10', '12', '1', '151', '144', '142', '140', '140', '144', '152', '141', '138', '69', '16', '44', '47', '48', '59', '63', '68', '81', '89', '92', '100', '109', '120', '140', '156', '156', '157', '154', '148', '137', '129', '112', '85', '79', '81', '79', '72', '69', '66', '58', '61', '57', '35', '30', '24', '18', '11', '33', '151', '146', '142', '141', '140', '142', '152', '144', '142', '50', '16', '46', '47', '53', '61', '65', '69', '79', '85', '88', '98', '102', '126', '149', '157', '157', '152', '147', '146', '134', '123', '107', '93', '83', '80', '79', '73', '70', '71', '61', '60', '59', '38', '43', '27', '25', '13', '97', '149', '148', '143', '141', '141', '139', '147', '147', '141', '36', '19', '48', '49', '53', '58', '68', '72', '80', '93', '105', '107', '107', '130', '153', '158', '156', '149', '146', '142', '135', '118', '103', '91', '87', '78', '78', '74', '70', '71', '64', '61', '60', '42', '42', '44', '28', '12', '55', '143', '146', '144', '141', '141', '140', '144', '150', '139', '31', '28', '47', '51', '52', '56', '69', '78', '84', '98', '109', '113', '112', '143', '157', '156', '164', '156', '144', '128', '125', '118', '105', '93', '89', '81', '78', '78', '78', '73', '67', '61', '62', '50', '40', '40', '27', '9', '58', '141', '148', '145', '142', '141', '141', '141', '150', '146', '32', '33', '50', '45', '56', '65', '71', '78', '86', '101', '115', '124', '128', '156', '159', '153', '152', '162', '142', '124', '128', '120', '106', '101', '92', '84', '83', '82', '76', '73', '72', '65', '61', '58', '37', '30', '29', '17', '23', '140', '146', '144', '143', '141', '141', '141', '147', '150', '43', '41', '51', '47', '53', '56', '67', '80', '96', '115', '130', '133', '137', '153', '158', '148', '144', '146', '137', '139', '133', '135', '125', '106', '95', '91', '77', '76', '75', '73', '71', '65', '62', '57', '46', '41', '27', '18', '12', '138', '146', '147', '143', '142', '140', '143', '144', '155', '64', '44', '53', '38', '22', '16', '30', '44', '62', '88', '118', '119', '137', '155', '154', '151', '156', '108', '99', '108', '90', '72', '76', '82', '58', '66', '61', '54', '68', '74', '66', '66', '63', '53', '55', '42', '19', '19', '74', '138', '144', '147', '144', '142', '142', '142', '143', '156', '82', '44', '37', '8', '5', '8', '20', '19', '40', '51', '73', '103', '129', '150', '170', '169', '160', '110', '101', '118', '68', '42', '33', '32', '7', '11', '27', '31', '41', '44', '65', '65', '65', '53', '54', '37', '12', '43', '115', '137', '140', '147', '145', '143', '143', '142', '139', '155', '82', '39', '12', '19', '42', '69', '61', '36', '34', '48', '59', '77', '109', '141', '160', '162', '154', '131', '90', '84', '83', '45', '32', '63', '83', '71', '54', '45', '35', '17', '43', '68', '62', '56', '48', '39', '12', '27', '45', '136', '139', '146', '146', '143', '142', '143', '139', '153', '104', '34', '19', '54', '78', '97', '117', '112', '75', '59', '63', '67', '98', '128', '130', '122', '130', '117', '84', '62', '50', '80', '118', '169', '170', '138', '113', '95', '70', '44', '34', '58', '63', '56', '45', '33', '12', '48', '55', '136', '138', '142', '146', '144', '142', '141', '139', '146', '130', '37', '39', '63', '54', '56', '84', '119', '113', '100', '96', '75', '85', '117', '126', '106', '113', '105', '89', '87', '95', '106', '112', '118', '111', '93', '86', '86', '85', '64', '50', '54', '71', '57', '44', '28', '35', '58', '29', '135', '138', '140', '145', '144', '142', '141', '139', '146', '120', '43', '55', '33', '25', '58', '30', '82', '88', '76', '91', '90', '71', '94', '127', '155', '130', '110', '89', '92', '92', '74', '72', '83', '88', '63', '52', '49', '65', '66', '63', '73', '76', '56', '44', '26', '51', '43', '83', '133', '137', '140', '144', '145', '142', '141', '138', '147', '110', '47', '58', '24', '20', '144', '42', '7', '48', '121', '68', '81', '82', '87', '121', '170', '135', '125', '92', '95', '67', '78', '89', '25', '35', '43', '88', '22', '45', '61', '72', '85', '72', '51', '42', '33', '48', '85', '92', '133', '135', '139', '143', '145', '143', '141', '139', '148', '100', '49', '64', '49', '68', '86', '86', '89', '134', '162', '109', '78', '93', '91', '108', '142', '117', '122', '124', '88', '72', '144', '180', '46', '20', '108', '126', '37', '53', '77', '89', '97', '68', '49', '43', '31', '57', '130', '103', '134', '135', '138', '142', '145', '143', '141', '139', '147', '93', '47', '78', '62', '58', '80', '98', '128', '153', '138', '127', '103', '87', '87', '111', '128', '113', '102', '124', '108', '105', '117', '122', '127', '123', '99', '99', '96', '71', '90', '104', '92', '75', '47', '45', '32', '110', '174', '135', '134', '134', '137', '141', '144', '144', '141', '138', '147', '79', '51', '88', '100', '84', '84', '100', '112', '123', '112', '103', '90', '79', '90', '105', '111', '108', '107', '106', '139', '128', '107', '99', '123', '124', '106', '91', '66', '96', '135', '112', '92', '76', '47', '44', '34', '117', '183', '125', '133', '134', '136', '140', '143', '146', '142', '139', '145', '64', '55', '90', '105', '119', '127', '125', '118', '104', '97', '88', '81', '89', '99', '101', '105', '101', '93', '96', '109', '136', '144', '132', '104', '88', '83', '87', '111', '143', '134', '112', '95', '76', '48', '43', '38', '74', '106', '85', '131', '134', '135', '137', '143', '145', '143', '141', '142', '66', '65', '94', '108', '123', '123', '130', '114', '113', '97', '72', '95', '104', '119', '117', '116', '103', '99', '97', '100', '118', '135', '146', '145', '137', '125', '128', '130', '127', '113', '99', '96', '79', '50', '48', '40', '77', '106', '56', '133', '133', '136', '137', '141', '144', '143', '143', '140', '67', '72', '100', '117', '121', '140', '148', '134', '119', '82', '76', '103', '119', '136', '144', '138', '115', '91', '84', '86', '126', '160', '157', '155', '156', '144', '135', '131', '124', '113', '99', '92', '81', '57', '49', '44', '84', '114', '72', '134', '133', '135', '138', '139', '143', '144', '145', '132', '58', '71', '100', '113', '130', '154', '154', '123', '89', '92', '100', '117', '133', '162', '195', '165', '142', '104', '87', '89', '90', '137', '154', '165', '176', '172', '161', '143', '136', '117', '102', '87', '75', '57', '50', '49', '54', '85', '78', '133', '134', '133', '137', '138', '142', '144', '147', '121', '49', '70', '90', '104', '133', '153', '142', '111', '88', '115', '126', '131', '135', '161', '218', '180', '148', '134', '129', '125', '92', '122', '149', '137', '159', '186', '173', '148', '132', '117', '103', '80', '66', '54', '54', '50', '69', '75', '65', '135', '134', '132', '136', '138', '141', '143', '148', '128', '45', '66', '83', '104', '119', '137', '127', '101', '61', '86', '97', '100', '119', '131', '139', '141', '132', '134', '138', '130', '80', '116', '165', '139', '122', '152', '173', '152', '125', '112', '99', '77', '65', '52', '54', '53', '59', '39', '67', '137', '135', '132', '134', '137', '140', '142', '146', '143', '56', '56', '73', '88', '93', '99', '105', '110', '56', '24', '26', '27', '44', '82', '102', '70', '37', '36', '38', '45', '45', '110', '124', '119', '99', '107', '144', '137', '117', '104', '87', '71', '56', '51', '53', '58', '37', '36', '84', '138', '137', '133', '133', '138', '140', '141', '140', '147', '63', '48', '62', '65', '68', '81', '85', '106', '100', '79', '88', '86', '89', '81', '59', '64', '118', '101', '87', '86', '96', '100', '104', '106', '114', '99', '119', '112', '96', '89', '76', '58', '56', '56', '58', '52', '61', '101', '89', '141', '139', '133', '132', '137', '138', '140', '139', '149', '64', '44', '55', '61', '67', '70', '73', '84', '90', '74', '80', '96', '148', '190', '142', '123', '161', '140', '120', '98', '97', '103', '104', '108', '108', '97', '92', '86', '85', '79', '67', '55', '62', '61', '61', '51', '63', '77', '34', '139', '139', '134', '131', '136', '138', '140', '139', '150', '74', '39', '58', '55', '51', '64', '67', '71', '75', '77', '79', '115', '162', '168', '159', '120', '147', '158', '124', '97', '95', '104', '109', '107', '101', '80', '78', '75', '73', '76', '65', '62', '66', '65', '59', '48', '63', '32', '0', '140', '140', '135', '129', '133', '139', '140', '138', '149', '95', '32', '61', '66', '51', '63', '65', '73', '74', '84', '90', '122', '157', '173', '170', '132', '163', '166', '122', '106', '94', '104', '106', '101', '96', '91', '83', '61', '69', '77', '63', '64', '79', '71', '56', '50', '67', '61', '2', '140', '141', '135', '129', '132', '137', '140', '139', '147', '116', '34', '60', '102', '61', '48', '51', '72', '81', '91', '106', '133', '159', '173', '151', '131', '166', '159', '121', '109', '94', '96', '94', '79', '67', '101', '82', '60', '93', '85', '68', '77', '86', '70', '46', '51', '56', '96', '81', '139', '141', '134', '131', '132', '135', '139', '140', '139', '136', '47', '46', '133', '116', '74', '61', '51', '67', '86', '96', '112', '158', '174', '168', '166', '181', '147', '125', '126', '107', '99', '79', '53', '67', '89', '75', '106', '119', '83', '77', '95', '89', '62', '44', '54', '50', '82', '105', '139', '142', '135', '131', '133', '135', '138', '140', '136', '144', '73', '36', '100', '145', '82', '80', '50', '41', '42', '49', '75', '77', '92', '103', '101', '90', '83', '84', '61', '66', '59', '44', '83', '119', '101', '115', '146', '113', '77', '85', '104', '86', '52', '47', '65', '51', '56', '67', '141', '143', '136', '130', '132', '134', '140', '140', '135', '141', '107', '34', '66', '122', '95', '77', '70', '74', '86', '95', '140', '172', '181', '156', '175', '190', '167', '118', '83', '85', '81', '96', '115', '119', '114', '146', '131', '90', '84', '104', '102', '75', '41', '56', '73', '46', '56', '80', '144', '141', '136', '130', '132', '133', '139', '139', '134', '134', '125', '53', '45', '93', '99', '79', '67', '73', '84', '103', '113', '135', '157', '174', '175', '160', '143', '123', '106', '95', '99', '91', '119', '118', '121', '128', '101', '78', '92', '102', '87', '52', '45', '77', '68', '42', '40', '75', '144', '138', '136', '132', '134', '132', '137', '139', '135', '131', '127', '88', '35', '66', '93', '77', '70', '65', '92', '110', '139', '161', '160', '159', '164', '166', '156', '126', '109', '110', '85', '102', '132', '114', '119', '112', '88', '77', '88', '82', '63', '38', '63', '85', '53', '46', '40', '53', '140', '137', '138', '133', '134', '130', '135', '140', '136', '131', '120', '109', '53', '41', '75', '79', '71', '64', '69', '84', '108', '140', '156', '158', '166', '169', '143', '121', '116', '93', '87', '124', '118', '112', '116', '91', '71', '82', '89', '73', '41', '49', '87', '76', '42', '60', '39', '32', '138', '138', '137', '133', '134', '128', '135', '139', '136', '133', '119', '109', '83', '37', '54', '75', '77', '75', '71', '75', '81', '79', '88', '104', '96', '92', '97', '100', '89', '81', '109', '119', '103', '105', '90', '72', '70', '82', '82', '54', '44', '80', '93', '47', '54', '68', '36', '25', '143', '141', '138', '136', '135', '129', '133', '136', '134', '131', '121', '107', '94', '60', '39', '61', '80', '80', '75', '80', '85', '94', '82', '89', '93', '88', '91', '94', '90', '102', '115', '112', '102', '91', '71', '67', '72', '84', '69', '43', '68', '95', '60', '43', '78', '60', '34', '27', '141', '141', '140', '137', '136', '133', '133', '133', '138', '133', '121', '107', '91', '78', '41', '48', '74', '89', '86', '84', '92', '105', '98', '93', '96', '101', '107', '107', '115', '126', '128', '114', '97', '70', '68', '73', '79', '76', '57', '57', '91', '64', '43', '89', '72', '58', '29', '27', '139', '139', '141', '138', '136', '134', '130', '132', '139', '138', '129', '111', '94', '81', '56', '35', '60', '87', '102', '108', '112', '116', '126', '114', '124', '140', '138', '135', '139', '141', '128', '103', '80', '63', '72', '81', '82', '66', '55', '87', '59', '45', '98', '83', '68', '56', '25', '29', '137', '140', '142', '139', '136', '134', '128', '129', '136', '141', '133', '114', '96', '81', '66', '41', '50', '77', '96', '103', '107', '119', '150', '154', '165', '172', '156', '141', '142', '141', '123', '101', '65', '67', '80', '82', '72', '62', '73', '55', '57', '109', '93', '78', '76', '40', '25', '27', '133', '140', '143', '141', '137', '135', '129', '128', '137', '141', '130', '117', '98', '80', '66', '53', '37', '65', '79', '95', '95', '127', '154', '153', '160', '170', '149', '132', '132', '132', '110', '77', '53', '76', '80', '77', '64', '58', '46', '70', '117', '101', '91', '86', '66', '24', '28', '27']\n",
            "im_list is \n"
          ]
        },
        {
          "metadata": {
            "tags": null
          },
          "name": "stderr",
          "output_type": "stream",
          "text": [
            "IOPub data rate exceeded.\n",
            "The notebook server will temporarily stop sending output\n",
            "to the client in order to avoid crashing it.\n",
            "To change this limit, set the config variable\n",
            "`--NotebookApp.iopub_data_rate_limit`.\n",
            "\n",
            "Current values:\n",
            "NotebookApp.iopub_data_rate_limit=1000000.0 (bytes/sec)\n",
            "NotebookApp.rate_limit_window=3.0 (secs)\n",
            "\n"
          ]
        }
      ]
    },
    {
      "cell_type": "markdown",
      "source": [
        "Next, let's load back in our saved model\n",
        "\n",
        "# Loading the model\n",
        "\n",
        "Note: saving and re-loding the model ins't necesary here -- we only dd it to illustrate how to do so :)"
      ],
      "metadata": {
        "id": "x-0i2I2q-Kss"
      }
    },
    {
      "cell_type": "code",
      "source": [
        "net = Net()\n",
        "net.load_state_dict(torch.load(PATH))"
      ],
      "metadata": {
        "colab": {
          "base_uri": "https://localhost:8080/"
        },
        "id": "Jm8d1bcB-TpE",
        "outputId": "bc2810d2-a1c3-483b-80bb-794157bf3531"
      },
      "execution_count": 17,
      "outputs": [
        {
          "output_type": "execute_result",
          "data": {
            "text/plain": [
              "<All keys matched successfully>"
            ]
          },
          "metadata": {},
          "execution_count": 17
        }
      ]
    },
    {
      "cell_type": "markdown",
      "source": [
        "# Running the model on 4 test images\n",
        "Okay, now let's see what the neural network thinks the 4 examples above are:\n",
        "Note: this is a good practice so gauge how the model is generally doing before running it on the whole dataset (which can be time and computationally expensive)"
      ],
      "metadata": {
        "id": "Aqp0MZZu-rL2"
      }
    },
    {
      "cell_type": "code",
      "source": [
        "outputs = net(images)\n",
        "print(outputs) # this isn't necessary"
      ],
      "metadata": {
        "colab": {
          "base_uri": "https://localhost:8080/"
        },
        "id": "7tzEjTiX-xrV",
        "outputId": "b2c420d0-6ca6-405c-a922-6d837542a710"
      },
      "execution_count": 18,
      "outputs": [
        {
          "output_type": "stream",
          "name": "stdout",
          "text": [
            "tensor([[-7.7250e-01, -2.8172e+00,  2.2375e-02,  2.2813e+00, -1.4869e+00,\n",
            "          7.6568e-01,  3.8208e-01],\n",
            "        [ 1.1118e+00, -2.1249e+00,  1.1210e+00,  1.9591e-03, -1.8145e-01,\n",
            "          6.8301e-01, -1.2336e+00],\n",
            "        [-1.4709e+00, -2.6833e+00, -4.1442e-01,  4.2850e+00, -1.6415e+00,\n",
            "          1.9262e-01, -3.3771e-01],\n",
            "        [-3.4177e-02, -2.4555e+00,  1.2642e+00,  1.2276e+00, -5.4713e-01,\n",
            "          1.1718e+00, -1.2805e+00]], grad_fn=<AddmmBackward0>)\n"
          ]
        }
      ]
    },
    {
      "cell_type": "markdown",
      "source": [
        "The outputs are energies for the 7 classes. The higher the energy for a class, the more the network thinks that the image is of the particular class. So, let's get the index of the highest energy:"
      ],
      "metadata": {
        "id": "MFR-x7qY-9aQ"
      }
    },
    {
      "cell_type": "code",
      "source": [
        "# torch.max returns [maximum_tensor_value, index of the class with the highest probability]\n",
        "# prediced is a list of the indices of the labels\n",
        "_, predicted = torch.max(outputs, 1) # interestingly, '_,' is used to discard the first thing that torch.max returns\n",
        "\n",
        "# the label index is passed into the classes list to return the string representing the class label (at the predicted index)\n",
        "print('Predicted: ', ' '.join(f'{classes[predicted[j]]:5s}' for j in range(4)))\n",
        "\n",
        "# this is unecessary, but helps to understand what each variable is\n",
        "print(predicted)\n",
        "print(classes)"
      ],
      "metadata": {
        "colab": {
          "base_uri": "https://localhost:8080/"
        },
        "id": "73O5sBq__IPf",
        "outputId": "01988c2b-87e8-4639-f19d-63d24b14af01"
      },
      "execution_count": 19,
      "outputs": [
        {
          "output_type": "stream",
          "name": "stdout",
          "text": [
            "Predicted:  Happy Fear  Happy Fear \n",
            "tensor([3, 2, 3, 2])\n",
            "('Angry', 'Disgust', 'Fear', 'Happy', 'Sad', 'Surprise', 'Neutral')\n"
          ]
        }
      ]
    },
    {
      "cell_type": "markdown",
      "source": [
        "# Running the model on the entire test dataset\n",
        "Now we will run the model on the whole test dataset to see how it performs. Notice that we use simple counters to track & compute the average accuracy\n",
        "\n",
        "Another key thing to note: we **use torch.no_grad() when we're not training the model,** because we don't need to compute gradients during the testing phase & it would just waste space in memory"
      ],
      "metadata": {
        "id": "WyPLPWJqUT7g"
      }
    },
    {
      "cell_type": "code",
      "source": [
        "correct = 0\n",
        "total = 0\n",
        "# since we're not training, we don't need to calculate the gradients for our outputs\n",
        "with torch.no_grad():\n",
        "    for data in testloader:\n",
        "        images, labels = data\n",
        "        outputs = net(images)\n",
        "        _, predicted = torch.max(outputs, 1) # (outputs, 1) returns the class predictions like [3, 1, 8, 0] above\n",
        "        # collct the correct predictions for each class\n",
        "        total += labels.size(0)\n",
        "        correct += (predicted == labels).sum().item()\n",
        "print(f'Accuracy of the network on 10,000 test images: {100 * correct // total} %')"
      ],
      "metadata": {
        "colab": {
          "base_uri": "https://localhost:8080/",
          "height": 624
        },
        "id": "TMnWyVMvUX0c",
        "outputId": "de7c9511-2133-44c9-8465-4df756246d00"
      },
      "execution_count": 20,
      "outputs": [
        {
          "output_type": "error",
          "ename": "TypeError",
          "evalue": "ignored",
          "traceback": [
            "\u001b[0;31m---------------------------------------------------------------------------\u001b[0m",
            "\u001b[0;31mTypeError\u001b[0m                                 Traceback (most recent call last)",
            "\u001b[0;32m<ipython-input-20-85899d692a46>\u001b[0m in \u001b[0;36m<cell line: 4>\u001b[0;34m()\u001b[0m\n\u001b[1;32m      3\u001b[0m \u001b[0;31m# since we're not training, we don't need to calculate the gradients for our outputs\u001b[0m\u001b[0;34m\u001b[0m\u001b[0;34m\u001b[0m\u001b[0m\n\u001b[1;32m      4\u001b[0m \u001b[0;32mwith\u001b[0m \u001b[0mtorch\u001b[0m\u001b[0;34m.\u001b[0m\u001b[0mno_grad\u001b[0m\u001b[0;34m(\u001b[0m\u001b[0;34m)\u001b[0m\u001b[0;34m:\u001b[0m\u001b[0;34m\u001b[0m\u001b[0;34m\u001b[0m\u001b[0m\n\u001b[0;32m----> 5\u001b[0;31m     \u001b[0;32mfor\u001b[0m \u001b[0mdata\u001b[0m \u001b[0;32min\u001b[0m \u001b[0mtestloader\u001b[0m\u001b[0;34m:\u001b[0m\u001b[0;34m\u001b[0m\u001b[0;34m\u001b[0m\u001b[0m\n\u001b[0m\u001b[1;32m      6\u001b[0m         \u001b[0mimages\u001b[0m\u001b[0;34m,\u001b[0m \u001b[0mlabels\u001b[0m \u001b[0;34m=\u001b[0m \u001b[0mdata\u001b[0m\u001b[0;34m\u001b[0m\u001b[0;34m\u001b[0m\u001b[0m\n\u001b[1;32m      7\u001b[0m         \u001b[0moutputs\u001b[0m \u001b[0;34m=\u001b[0m \u001b[0mnet\u001b[0m\u001b[0;34m(\u001b[0m\u001b[0mimages\u001b[0m\u001b[0;34m)\u001b[0m\u001b[0;34m\u001b[0m\u001b[0;34m\u001b[0m\u001b[0m\n",
            "\u001b[0;32m/usr/local/lib/python3.10/dist-packages/torch/utils/data/dataloader.py\u001b[0m in \u001b[0;36m__next__\u001b[0;34m(self)\u001b[0m\n\u001b[1;32m    632\u001b[0m                 \u001b[0;31m# TODO(https://github.com/pytorch/pytorch/issues/76750)\u001b[0m\u001b[0;34m\u001b[0m\u001b[0;34m\u001b[0m\u001b[0m\n\u001b[1;32m    633\u001b[0m                 \u001b[0mself\u001b[0m\u001b[0;34m.\u001b[0m\u001b[0m_reset\u001b[0m\u001b[0;34m(\u001b[0m\u001b[0;34m)\u001b[0m  \u001b[0;31m# type: ignore[call-arg]\u001b[0m\u001b[0;34m\u001b[0m\u001b[0;34m\u001b[0m\u001b[0m\n\u001b[0;32m--> 634\u001b[0;31m             \u001b[0mdata\u001b[0m \u001b[0;34m=\u001b[0m \u001b[0mself\u001b[0m\u001b[0;34m.\u001b[0m\u001b[0m_next_data\u001b[0m\u001b[0;34m(\u001b[0m\u001b[0;34m)\u001b[0m\u001b[0;34m\u001b[0m\u001b[0;34m\u001b[0m\u001b[0m\n\u001b[0m\u001b[1;32m    635\u001b[0m             \u001b[0mself\u001b[0m\u001b[0;34m.\u001b[0m\u001b[0m_num_yielded\u001b[0m \u001b[0;34m+=\u001b[0m \u001b[0;36m1\u001b[0m\u001b[0;34m\u001b[0m\u001b[0;34m\u001b[0m\u001b[0m\n\u001b[1;32m    636\u001b[0m             \u001b[0;32mif\u001b[0m \u001b[0mself\u001b[0m\u001b[0;34m.\u001b[0m\u001b[0m_dataset_kind\u001b[0m \u001b[0;34m==\u001b[0m \u001b[0m_DatasetKind\u001b[0m\u001b[0;34m.\u001b[0m\u001b[0mIterable\u001b[0m \u001b[0;32mand\u001b[0m\u001b[0;31m \u001b[0m\u001b[0;31m\\\u001b[0m\u001b[0;34m\u001b[0m\u001b[0;34m\u001b[0m\u001b[0m\n",
            "\u001b[0;32m/usr/local/lib/python3.10/dist-packages/torch/utils/data/dataloader.py\u001b[0m in \u001b[0;36m_next_data\u001b[0;34m(self)\u001b[0m\n\u001b[1;32m   1344\u001b[0m             \u001b[0;32melse\u001b[0m\u001b[0;34m:\u001b[0m\u001b[0;34m\u001b[0m\u001b[0;34m\u001b[0m\u001b[0m\n\u001b[1;32m   1345\u001b[0m                 \u001b[0;32mdel\u001b[0m \u001b[0mself\u001b[0m\u001b[0;34m.\u001b[0m\u001b[0m_task_info\u001b[0m\u001b[0;34m[\u001b[0m\u001b[0midx\u001b[0m\u001b[0;34m]\u001b[0m\u001b[0;34m\u001b[0m\u001b[0;34m\u001b[0m\u001b[0m\n\u001b[0;32m-> 1346\u001b[0;31m                 \u001b[0;32mreturn\u001b[0m \u001b[0mself\u001b[0m\u001b[0;34m.\u001b[0m\u001b[0m_process_data\u001b[0m\u001b[0;34m(\u001b[0m\u001b[0mdata\u001b[0m\u001b[0;34m)\u001b[0m\u001b[0;34m\u001b[0m\u001b[0;34m\u001b[0m\u001b[0m\n\u001b[0m\u001b[1;32m   1347\u001b[0m \u001b[0;34m\u001b[0m\u001b[0m\n\u001b[1;32m   1348\u001b[0m     \u001b[0;32mdef\u001b[0m \u001b[0m_try_put_index\u001b[0m\u001b[0;34m(\u001b[0m\u001b[0mself\u001b[0m\u001b[0;34m)\u001b[0m\u001b[0;34m:\u001b[0m\u001b[0;34m\u001b[0m\u001b[0;34m\u001b[0m\u001b[0m\n",
            "\u001b[0;32m/usr/local/lib/python3.10/dist-packages/torch/utils/data/dataloader.py\u001b[0m in \u001b[0;36m_process_data\u001b[0;34m(self, data)\u001b[0m\n\u001b[1;32m   1370\u001b[0m         \u001b[0mself\u001b[0m\u001b[0;34m.\u001b[0m\u001b[0m_try_put_index\u001b[0m\u001b[0;34m(\u001b[0m\u001b[0;34m)\u001b[0m\u001b[0;34m\u001b[0m\u001b[0;34m\u001b[0m\u001b[0m\n\u001b[1;32m   1371\u001b[0m         \u001b[0;32mif\u001b[0m \u001b[0misinstance\u001b[0m\u001b[0;34m(\u001b[0m\u001b[0mdata\u001b[0m\u001b[0;34m,\u001b[0m \u001b[0mExceptionWrapper\u001b[0m\u001b[0;34m)\u001b[0m\u001b[0;34m:\u001b[0m\u001b[0;34m\u001b[0m\u001b[0;34m\u001b[0m\u001b[0m\n\u001b[0;32m-> 1372\u001b[0;31m             \u001b[0mdata\u001b[0m\u001b[0;34m.\u001b[0m\u001b[0mreraise\u001b[0m\u001b[0;34m(\u001b[0m\u001b[0;34m)\u001b[0m\u001b[0;34m\u001b[0m\u001b[0;34m\u001b[0m\u001b[0m\n\u001b[0m\u001b[1;32m   1373\u001b[0m         \u001b[0;32mreturn\u001b[0m \u001b[0mdata\u001b[0m\u001b[0;34m\u001b[0m\u001b[0;34m\u001b[0m\u001b[0m\n\u001b[1;32m   1374\u001b[0m \u001b[0;34m\u001b[0m\u001b[0m\n",
            "\u001b[0;32m/usr/local/lib/python3.10/dist-packages/torch/_utils.py\u001b[0m in \u001b[0;36mreraise\u001b[0;34m(self)\u001b[0m\n\u001b[1;32m    642\u001b[0m             \u001b[0;31m# instantiate since we don't know how to\u001b[0m\u001b[0;34m\u001b[0m\u001b[0;34m\u001b[0m\u001b[0m\n\u001b[1;32m    643\u001b[0m             \u001b[0;32mraise\u001b[0m \u001b[0mRuntimeError\u001b[0m\u001b[0;34m(\u001b[0m\u001b[0mmsg\u001b[0m\u001b[0;34m)\u001b[0m \u001b[0;32mfrom\u001b[0m \u001b[0;32mNone\u001b[0m\u001b[0;34m\u001b[0m\u001b[0;34m\u001b[0m\u001b[0m\n\u001b[0;32m--> 644\u001b[0;31m         \u001b[0;32mraise\u001b[0m \u001b[0mexception\u001b[0m\u001b[0;34m\u001b[0m\u001b[0;34m\u001b[0m\u001b[0m\n\u001b[0m\u001b[1;32m    645\u001b[0m \u001b[0;34m\u001b[0m\u001b[0m\n\u001b[1;32m    646\u001b[0m \u001b[0;34m\u001b[0m\u001b[0m\n",
            "\u001b[0;31mTypeError\u001b[0m: Caught TypeError in DataLoader worker process 0.\nOriginal Traceback (most recent call last):\n  File \"/usr/local/lib/python3.10/dist-packages/torch/utils/data/_utils/worker.py\", line 308, in _worker_loop\n    data = fetcher.fetch(index)\n  File \"/usr/local/lib/python3.10/dist-packages/torch/utils/data/_utils/fetch.py\", line 54, in fetch\n    return self.collate_fn(data)\n  File \"/usr/local/lib/python3.10/dist-packages/torch/utils/data/_utils/collate.py\", line 264, in default_collate\n    return collate(batch, collate_fn_map=default_collate_fn_map)\n  File \"/usr/local/lib/python3.10/dist-packages/torch/utils/data/_utils/collate.py\", line 142, in collate\n    return [collate(samples, collate_fn_map=collate_fn_map) for samples in transposed]  # Backwards compatibility.\n  File \"/usr/local/lib/python3.10/dist-packages/torch/utils/data/_utils/collate.py\", line 142, in <listcomp>\n    return [collate(samples, collate_fn_map=collate_fn_map) for samples in transposed]  # Backwards compatibility.\n  File \"/usr/local/lib/python3.10/dist-packages/torch/utils/data/_utils/collate.py\", line 150, in collate\n    raise TypeError(default_collate_err_msg_format.format(elem_type))\nTypeError: default_collate: batch must contain tensors, numpy arrays, numbers, dicts or lists; found <class 'NoneType'>\n"
          ]
        }
      ]
    },
    {
      "cell_type": "markdown",
      "source": [
        "That looks way better than chance, which is 10% accuracy (picking a class at random). Sees llike the model learnt something. \n",
        "\n",
        "Hmm, what are the classes that performed well and the ones that didn't?\n",
        "\n",
        "# Exploring which classes performed well & which didn't\n",
        "\n",
        "Note: Notice that you will get different accuracies for each class every time you train the neural network. This is because "
      ],
      "metadata": {
        "id": "PEaoGABbdWpH"
      }
    },
    {
      "cell_type": "code",
      "source": [
        "correct_pred = {classname: 0 for classname in classes} # using dictionary comprehension here\n",
        "total_pred = {classname: 0 for classname in classes} \n",
        "\n",
        "# again, no gradients are needed\n",
        "with torch.no_grad():\n",
        "    for data in testloader:\n",
        "        images, labels = data\n",
        "        outputs = net(images)\n",
        "        _, predictions = torch.max(outputs, 1)\n",
        "        # collect the correct predictions for each class\n",
        "        for label, prediction in zip(labels, predictions): # for each label\n",
        "            if label == prediction: # if the (actual) label = the (expected) prediction \n",
        "                correct_pred[classes[label]] += 1 # increment correct predictions counter\n",
        "            total_pred[classes[label]] += 1 # increment total predictions \n",
        "\n",
        "for classname, correct_count in correct_pred.items():\n",
        "    accuracy = 100 * float(correct_count) / total_pred[classname]\n",
        "    print(f'Accuracy for class: {classname:5s} is {accuracy:.1f} %')\n"
      ],
      "metadata": {
        "id": "eDnlEcc3dWby"
      },
      "execution_count": null,
      "outputs": []
    },
    {
      "cell_type": "markdown",
      "source": [
        "Okay, so what next? How do we run these neural networks on the GPU?"
      ],
      "metadata": {
        "id": "DMr1WSsegZ7g"
      }
    },
    {
      "cell_type": "markdown",
      "source": [
        "# Training on GPU \n",
        "## using \"if torch.cuda.is_available\"\n",
        "Just like how you transfer a Tensor onto the GPU, you transfer the neural net onto the GPU. \n",
        "Let's first deine our device as the first visible cuda device is we have CUDA available:"
      ],
      "metadata": {
        "id": "Rgt5NSlYgc9S"
      }
    },
    {
      "cell_type": "code",
      "source": [
        "device = torch.device('cuda:0' if torch.cuda.is_available else 'cpu')\n",
        "# Now print device to see if we are running on the GPU (cuda) or CPU\n",
        "print(device) "
      ],
      "metadata": {
        "id": "6bwLrGF3gudq"
      },
      "execution_count": null,
      "outputs": []
    },
    {
      "cell_type": "markdown",
      "source": [
        "### Note: the rest of this sections assumes that device is a CUDA device\n",
        "\n",
        "Theses methods will recursively go ove all modules and convert their parameters and buffers to CUDA tensors:\n",
        "\n",
        ".. code:: python\n",
        "### Note: if you get an **error related to no NVIDIA driver** it just means you need to **change runtime type** from CPU -> GPU by clicking Runtime > Change Runtime Type above. Google Collab runs code remotely on google servers and gives you the choice between running on CPU or GPU.\n"
      ],
      "metadata": {
        "id": "VeJTRwesg_Y6"
      }
    },
    {
      "cell_type": "code",
      "source": [
        "net.to(device)"
      ],
      "metadata": {
        "id": "N4fPVE1QhJ8U"
      },
      "execution_count": null,
      "outputs": []
    },
    {
      "cell_type": "markdown",
      "source": [
        "Remember that you will have to send the inputs and targets at every step to the GPU too:\n",
        ".. code:: python"
      ],
      "metadata": {
        "id": "ikrxbCdxhPrO"
      }
    },
    {
      "cell_type": "code",
      "source": [
        "inputs, labels = data[0].to(device), data[1].to(device)"
      ],
      "metadata": {
        "id": "442Am58ihUjY"
      },
      "execution_count": null,
      "outputs": []
    },
    {
      "cell_type": "markdown",
      "source": [
        "Why don't I notice a MASSIVE speedup compared to CPU? Because your network is really small. \n",
        "\n",
        "**Exercise:** Try increasing the width of your network (argument 2 of the first nn.Conv2d, and argument 1 of the second nn.Conv2d -- they need to be the same number), see what kind of speedup you get.\n",
        "\n",
        "**Goals Achieved:** \n",
        "\n",
        "\n",
        "*   Understanding PyTorches Tensor librrary and neural networks at a high level\n",
        "*   Train a small neural network to classify images\n",
        "\n"
      ],
      "metadata": {
        "id": "2XvxeXpIlAam"
      }
    },
    {
      "cell_type": "markdown",
      "source": [
        "#Training on multiple GPUs\n",
        "If you want to see an even more MASSIVE speedup using all of your GPUs, please check out :doc:data_parallel_tutorial.\n",
        "\n",
        "# Where do I go next?\n",
        "\n",
        "*   :doc:Train neural nts to play video games </intermediate/reinforcement_q_learning>\n",
        "*   Train a state-of-the-art ResNet network on imagenet_\n",
        "*   Train a face generator using Generative Adversarial Networks_\n",
        "*   Train a word-level langugage model using Recurrent LSTM networks_\n",
        "*   More examples_\n",
        "*   More tutorials_\n",
        "*   Discuss PyTorch on the Forums_\n",
        "*   Chat with other users on Slack_\n",
        "\n",
        "\n",
        "\n",
        "\n",
        "\n",
        "\n"
      ],
      "metadata": {
        "id": "Jb6Bdr5-lYsq"
      }
    },
    {
      "cell_type": "markdown",
      "source": [
        "## The tutorial I followed included del dataiter here, but...\n",
        "\n",
        "del dataiter deletes the variable dataiter from memory, **while this could potentially free up some memory resources, this is typically not necessary in PyTorch as the framework handles memory management automatically.** "
      ],
      "metadata": {
        "id": "CdkDbov6mMHR"
      }
    },
    {
      "cell_type": "code",
      "source": [
        "del dataiter"
      ],
      "metadata": {
        "id": "S5K4Ki8dmJs-"
      },
      "execution_count": null,
      "outputs": []
    }
  ]
}